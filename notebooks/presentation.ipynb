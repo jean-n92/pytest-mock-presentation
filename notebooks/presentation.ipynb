{
 "cells": [
  {
   "cell_type": "code",
   "execution_count": 45,
   "source": [
    "import unittest\n",
    "import ipytest\n",
    "from neon.functions import *\n",
    "\n",
    "ipytest.autoconfig()\n",
    "\n",
    "test_args = [\"--verbose\", \n",
    "            \"--showlocals\", \n",
    "            \"-x\", \n",
    "            \"--cov-report\", \n",
    "            \"term-missing\",\n",
    "            \"--cov\",\n",
    "            \"neon.functions\"]"
   ],
   "outputs": [],
   "metadata": {
    "slideshow": {
     "slide_type": "slide"
    }
   }
  },
  {
   "cell_type": "code",
   "execution_count": null,
   "source": [
    "class TestAPI(unittest.TestCase):\n",
    "    \"\"\"\n",
    "    All tests for the API itself go here.\n",
    "    \"\"\"\n",
    "    @classmethod\n",
    "    def setUpClass(cls) -> None:\n",
    "        pass\n",
    "\n",
    "    @classmethod\n",
    "    def tearDownClass(cls) -> None:\n",
    "        pass\n",
    "\n",
    "    def test_retrieve_data_with_waiting(self):\n",
    "        pass\n",
    "\n",
    "    def test_retrieve_data_without_waiting(self):\n",
    "        pass\n",
    "\n",
    "    def test_process_data_with_random_load(self):\n",
    "        pass\n",
    "\n",
    "    def test_process_data_with_api_load(self):\n",
    "        pass\n",
    "\n",
    "ipytest.run(*test_args)"
   ],
   "outputs": [],
   "metadata": {
    "slideshow": {
     "slide_type": "slide"
    }
   }
  },
  {
   "cell_type": "code",
   "execution_count": null,
   "source": [
    "class TestSparkFunctions(unittest.TestCase):\n",
    "    \"\"\"\n",
    "    All tests for Spark-related functions go here.\n",
    "    \"\"\"\n",
    "    @classmethod\n",
    "    def setUpClass(cls) -> None:\n",
    "        pass\n",
    "\n",
    "    @classmethod\n",
    "    def tearDownClass(cls) -> None:\n",
    "        pass\n",
    "\n",
    "    def test_group_and_save_with_random_load(self):\n",
    "        pass\n",
    "\n",
    "    def test_group_and_save_with_api_load(self):\n",
    "        pass\n",
    "\n",
    "ipytest.run(*test_args)"
   ],
   "outputs": [],
   "metadata": {
    "slideshow": {
     "slide_type": "subslide"
    }
   }
  }
 ],
 "metadata": {
  "celltoolbar": "Slideshow",
  "kernelspec": {
   "name": "python3",
   "display_name": "Python 3.7.0 64-bit ('venv': pyenv)"
  },
  "language_info": {
   "codemirror_mode": {
    "name": "ipython",
    "version": 3
   },
   "file_extension": ".py",
   "mimetype": "text/x-python",
   "name": "python",
   "nbconvert_exporter": "python",
   "pygments_lexer": "ipython3",
   "version": "3.7.0"
  },
  "interpreter": {
   "hash": "4a7b606e264437b67c76b6a90ca9c891af4f0d4e775e00cab262968ebd59eaa3"
  }
 },
 "nbformat": 4,
 "nbformat_minor": 5
}