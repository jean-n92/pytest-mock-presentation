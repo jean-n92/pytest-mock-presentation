{
 "cells": [
  {
   "cell_type": "markdown",
   "id": "fd12c124",
   "metadata": {
    "slideshow": {
     "slide_type": "slide"
    }
   },
   "source": [
    "## How to make your testing life easier by using unittest.**mock** package\n",
    "\n",
    "### A small introduction to mocking, APIs and cats"
   ]
  },
  {
   "cell_type": "markdown",
   "id": "bf3b5437",
   "metadata": {
    "slideshow": {
     "slide_type": "slide"
    }
   },
   "source": [
    "## What is mocking?"
   ]
  },
  {
   "cell_type": "markdown",
   "id": "90693493",
   "metadata": {
    "slideshow": {
     "slide_type": "fragment"
    }
   },
   "source": [
    ">`unittest.mock` is a library for testing in Python. It allows you to replace parts of your system under test with mock objects and make assertions about how they have been used."
   ]
  },
  {
   "cell_type": "markdown",
   "id": "d7066e2c",
   "metadata": {
    "slideshow": {
     "slide_type": "fragment"
    }
   },
   "source": [
    "![SO](http://localhost:5500/lib/img3.png)"
   ]
  },
  {
   "cell_type": "code",
   "execution_count": 1,
   "id": "ec7a87ce",
   "metadata": {
    "slideshow": {
     "slide_type": "skip"
    }
   },
   "outputs": [],
   "source": [
    "# Hidden imports go here\n",
    "import sys\n",
    "import ipytest\n",
    "import requests\n",
    "import pyspark\n",
    "import unittest\n",
    "from unittest import mock"
   ]
  },
  {
   "cell_type": "markdown",
   "id": "5ed60f68",
   "metadata": {
    "slideshow": {
     "slide_type": "slide"
    }
   },
   "source": [
    "Let's start with the *very* basics:"
   ]
  },
  {
   "cell_type": "code",
   "execution_count": 2,
   "id": "9f629db7",
   "metadata": {
    "slideshow": {
     "slide_type": "fragment"
    }
   },
   "outputs": [
    {
     "data": {
      "text/plain": [
       "'ABNAMRO'"
      ]
     },
     "execution_count": 2,
     "metadata": {},
     "output_type": "execute_result"
    }
   ],
   "source": [
    "def a_random_function(arg1: str, arg2: str) -> str:\n",
    "    return arg2 + arg1\n",
    "\n",
    "a_random_function(\"AMRO\", \"ABN\")"
   ]
  },
  {
   "cell_type": "markdown",
   "id": "5b9ab9cb",
   "metadata": {
    "slideshow": {
     "slide_type": "subslide"
    }
   },
   "source": [
    "Now let's now make things slightly less linear:"
   ]
  },
  {
   "cell_type": "code",
   "execution_count": 3,
   "id": "22f96384",
   "metadata": {
    "slideshow": {
     "slide_type": "fragment"
    }
   },
   "outputs": [
    {
     "data": {
      "text/plain": [
       "'(=ʘᆽʘ=)∫3'"
      ]
     },
     "execution_count": 3,
     "metadata": {},
     "output_type": "execute_result"
    }
   ],
   "source": [
    "def another_function(arg1: int, arg2: int, arg3: str, arg4: str) -> str:\n",
    "    return a_random_function(arg3, arg4) + str((arg1 + arg2)//2)\n",
    "\n",
    "another_function(2, 4, \"ʘ=)∫\", \"(=ʘᆽ\")"
   ]
  },
  {
   "cell_type": "markdown",
   "id": "1ba0dbb7",
   "metadata": {
    "slideshow": {
     "slide_type": "subslide"
    }
   },
   "source": [
    "### How is this related to unit testing?    \n",
    "Let's take the definition of *unit testing*. According to Wikipedia (the main source of information for our century), we can define unit testing as:\n",
    ">\"A software testing method by which individual units of source code — sets of one or more computer program modules together with associated control data, usage procedures, and operating procedures — are tested to determine whether they are fit for use.\""
   ]
  },
  {
   "cell_type": "markdown",
   "id": "0b6a5546",
   "metadata": {
    "slideshow": {
     "slide_type": "subslide"
    }
   },
   "source": [
    "The dilemma is:\n",
    "> \" How can we test something over which we have no control? \""
   ]
  },
  {
   "cell_type": "markdown",
   "id": "0e855a9e",
   "metadata": {
    "slideshow": {
     "slide_type": "skip"
    }
   },
   "source": [
    "In our specific case, let's take `a_random_function(arg1, arg2)` as given.    \n",
    "Let's say we import it from some other package, that doesn't belong to us.    "
   ]
  },
  {
   "cell_type": "markdown",
   "id": "ad1bc190",
   "metadata": {
    "slideshow": {
     "slide_type": "skip"
    }
   },
   "source": [
    "We run into this issue many times: the most common time is when we interact with the filesystem."
   ]
  },
  {
   "cell_type": "markdown",
   "id": "993fddec",
   "metadata": {
    "slideshow": {
     "slide_type": "slide"
    }
   },
   "source": [
    "Let's redefine our `another_function()` as follows:"
   ]
  },
  {
   "cell_type": "code",
   "execution_count": 32,
   "id": "50fde3a2",
   "metadata": {
    "slideshow": {
     "slide_type": "fragment"
    }
   },
   "outputs": [
    {
     "data": {
      "text/plain": [
       "'-f/home/gian/.pyenv/versions/3.7.0/envs/venv/lib/python3.7/site-packages/ipykernel_launcher.py - 105'"
      ]
     },
     "execution_count": 32,
     "metadata": {},
     "output_type": "execute_result"
    }
   ],
   "source": [
    "def another_function(arg1: str, arg2: str) -> str:\n",
    "    return a_random_function(sys.argv[0], sys.argv[1]) + \" - \" + str((arg1 + arg2)//2)\n",
    "\n",
    "another_function(10, 200)"
   ]
  },
  {
   "cell_type": "markdown",
   "id": "b5a089a7",
   "metadata": {
    "slideshow": {
     "slide_type": "fragment"
    }
   },
   "source": [
    "As you can see, I have no possible control over `sys.argv`: they get defined at runtime, once I run my application.    \n",
    "How can we account for them, or get *some* degree of control?"
   ]
  },
  {
   "cell_type": "markdown",
   "id": "858c45d1",
   "metadata": {
    "slideshow": {
     "slide_type": "slide"
    }
   },
   "source": [
    "Fortunately, `unittest.mock` allows us to perform this task in a relatively relaxed way."
   ]
  },
  {
   "cell_type": "code",
   "execution_count": 28,
   "id": "57adca23",
   "metadata": {
    "slideshow": {
     "slide_type": "subslide"
    }
   },
   "outputs": [
    {
     "data": {
      "text/plain": [
       "{'__wrapped__': <function __main__.another_function(arg1: str, arg2: str) -> str>,\n",
       " 'patchings': [<unittest.mock._patch at 0x7f5818833588>]}"
      ]
     },
     "execution_count": 28,
     "metadata": {},
     "output_type": "execute_result"
    }
   ],
   "source": [
    "@mock.patch(\"sys.argv\", [\"One\", \"Two\"])\n",
    "def another_function(arg1: str, arg2: str) -> str:\n",
    "    return a_random_function(sys.argv[0], sys.argv[1]) + \" - \" + str((arg1 + arg2)//2)\n",
    "\n",
    "another_function(10, 200)"
   ]
  },
  {
   "cell_type": "code",
   "execution_count": null,
   "id": "7a9ced4e",
   "metadata": {
    "slideshow": {
     "slide_type": "fragment"
    }
   },
   "outputs": [],
   "source": [
    "print(sys.argv)"
   ]
  },
  {
   "cell_type": "markdown",
   "id": "28ba5cb3",
   "metadata": {
    "slideshow": {
     "slide_type": "fragment"
    }
   },
   "source": [
    "![cat](http://localhost:5500/lib/img1.jpg)"
   ]
  },
  {
   "cell_type": "code",
   "execution_count": null,
   "id": "da72ff65",
   "metadata": {
    "slideshow": {
     "slide_type": "skip"
    }
   },
   "outputs": [],
   "source": [
    "# Test-related imports go here\n",
    "\n",
    "ipytest.autoconfig()\n",
    "test_args = [\"--showlocals\", \n",
    "            \"-x\", \n",
    "            \"--cov-report\", \n",
    "            \"term-missing\",\n",
    "            \"--cov\",\n",
    "            \"neon.functions\"]"
   ]
  },
  {
   "cell_type": "markdown",
   "id": "b752edcb",
   "metadata": {
    "slideshow": {
     "slide_type": "slide"
    }
   },
   "source": [
    "## Let's get to our cats 🐈\n",
    "Since I really love cats, I'd like to know more about them.    \n",
    "Fortunately, someone created the **completely free** [Cat facts API](https://catfact.ninja/) which can return nice (and interesting) facts about our feline friends."
   ]
  },
  {
   "cell_type": "code",
   "execution_count": null,
   "id": "f0332a66",
   "metadata": {
    "slideshow": {
     "slide_type": "subslide"
    }
   },
   "outputs": [],
   "source": [
    "requests.get(url=\"https://catfact.ninja/fact\").json()[\"fact\"]"
   ]
  },
  {
   "cell_type": "markdown",
   "id": "f509c9f5",
   "metadata": {
    "slideshow": {
     "slide_type": "fragment"
    }
   },
   "source": [
    "For the purpose of this presentation, I made a **whole application** to collect facts about cats. The application does two main things:\n",
    "- Collects a certain number of facts by querying the API\n",
    "- Saves everything into my local Spark cluster, into a well organized table   \n",
    "\n",
    "I called the application **Neon** (just because that's the first name I got from a random generator)    \n",
    "The application code and its tests are freely available on my github profile (link at the end of the presentation)"
   ]
  },
  {
   "cell_type": "markdown",
   "id": "4b656c3e",
   "metadata": {
    "slideshow": {
     "slide_type": "subslide"
    }
   },
   "source": [
    "### Let's start making use of it then!"
   ]
  },
  {
   "cell_type": "code",
   "execution_count": 45,
   "id": "10b62de9",
   "metadata": {
    "slideshow": {
     "slide_type": "fragment"
    }
   },
   "outputs": [],
   "source": [
    "from neon.functions import *"
   ]
  },
  {
   "cell_type": "markdown",
   "id": "bd40e11d",
   "metadata": {
    "slideshow": {
     "slide_type": "fragment"
    }
   },
   "source": [
    "![outline](http://localhost:5500/lib/img4.png)"
   ]
  },
  {
   "cell_type": "code",
   "execution_count": 43,
   "id": "8ffa3f9f",
   "metadata": {
    "slideshow": {
     "slide_type": "fragment"
    }
   },
   "outputs": [
    {
     "name": "stderr",
     "output_type": "stream",
     "text": [
      "2021-08-20 11:41:02,415 - DEBUG - Now arranging API call to https://catfact.ninja/fact\n",
      "2021-08-20 11:41:09,425 - DEBUG - Time elapsed: 7.0 seconds\n",
      "2021-08-20 11:41:09,427 - DEBUG - Starting call now\n",
      "2021-08-20 11:41:09,434 - DEBUG - Starting new HTTPS connection (1): catfact.ninja:443\n",
      "2021-08-20 11:41:10,054 - DEBUG - https://catfact.ninja:443 \"GET /fact HTTP/1.1\" 200 None\n",
      "2021-08-20 11:41:10,060 - DEBUG - Load 1 of 3 is done\n",
      "2021-08-20 11:41:10,060 - DEBUG - Now arranging API call to https://catfact.ninja/fact\n",
      "2021-08-20 11:41:14,065 - DEBUG - Time elapsed: 4.0 seconds\n",
      "2021-08-20 11:41:14,067 - DEBUG - Starting call now\n",
      "2021-08-20 11:41:14,071 - DEBUG - Starting new HTTPS connection (1): catfact.ninja:443\n",
      "2021-08-20 11:41:14,641 - DEBUG - https://catfact.ninja:443 \"GET /fact HTTP/1.1\" 200 None\n",
      "2021-08-20 11:41:14,645 - DEBUG - Load 2 of 3 is done\n",
      "2021-08-20 11:41:14,646 - DEBUG - Now arranging API call to https://catfact.ninja/fact\n",
      "2021-08-20 11:41:18,651 - DEBUG - Time elapsed: 4.0 seconds\n",
      "2021-08-20 11:41:18,653 - DEBUG - Starting call now\n",
      "2021-08-20 11:41:18,657 - DEBUG - Starting new HTTPS connection (1): catfact.ninja:443\n",
      "2021-08-20 11:41:19,239 - DEBUG - https://catfact.ninja:443 \"GET /fact HTTP/1.1\" 200 None\n",
      "2021-08-20 11:41:19,241 - DEBUG - Load 3 of 3 is done\n"
     ]
    }
   ],
   "source": [
    "interesting_facts = process_data(usernumber=3)"
   ]
  },
  {
   "cell_type": "markdown",
   "id": "e7c0694c",
   "metadata": {
    "slideshow": {
     "slide_type": "subslide"
    }
   },
   "source": [
    " Each API call generates a JSONs. `process_data()` conveniently packs them into a list, over which we can easily iterate: "
   ]
  },
  {
   "cell_type": "code",
   "execution_count": null,
   "id": "9a59da49",
   "metadata": {
    "slideshow": {
     "slide_type": "fragment"
    }
   },
   "outputs": [],
   "source": [
    "for entry in interesting_facts:\n",
    "    print(entry[\"fact\"])"
   ]
  },
  {
   "cell_type": "markdown",
   "id": "832ca8c1",
   "metadata": {},
   "source": [
    "Let's now store these important facts inside my table, so then they don't get lost:"
   ]
  },
  {
   "cell_type": "code",
   "execution_count": null,
   "id": "b05e7521",
   "metadata": {
    "slideshow": {
     "slide_type": "subslide"
    }
   },
   "outputs": [],
   "source": [
    "spark = establish_spark()\n",
    "group_and_save(spark, facts=interesting_facts)\n",
    "df = spark.read.table(\"default.random_cats_facts\")"
   ]
  },
  {
   "cell_type": "code",
   "execution_count": null,
   "id": "aa056a0e",
   "metadata": {
    "slideshow": {
     "slide_type": "subslide"
    }
   },
   "outputs": [],
   "source": [
    "df.show(100)"
   ]
  },
  {
   "cell_type": "markdown",
   "id": "5d513751",
   "metadata": {
    "slideshow": {
     "slide_type": "subslide"
    }
   },
   "source": [
    "As you can see, the whole procedure is very slow. This is due to a random `waiting` variable that I added in order to simulate a slow connection, a very server side, or anything that can get in between.    \n",
    "Since the `waiting` variable polls a random amount of seconds between 1 and 10, we're talking here about an average waiting time of 5 seconds (if you don't believe me, check the [central limit theorem](https://en.wikipedia.org/wiki/Central_limit_theorem) for statistical reference).    "
   ]
  },
  {
   "cell_type": "markdown",
   "id": "918807a2",
   "metadata": {
    "slideshow": {
     "slide_type": "slide"
    }
   },
   "source": [
    "### What can I do to make the whole thing more efficient, while testing for the main functionality?"
   ]
  },
  {
   "cell_type": "markdown",
   "id": "55db42c3",
   "metadata": {
    "slideshow": {
     "slide_type": "subslide"
    }
   },
   "source": [
    "There are two main issues over here:\n",
    "1) I don't wanna wait 5 seconds for each call to the API, but I'd like to be sure that the call works nonetheless (i.e. no test data, I don't care about the data: I want my functionality to work)    \n",
    "2) I don't wanna save the data I retrieve every single time, since I have no control over it will be saved: I just know that, as soon as I run the application, the data will be saved somewhere. That's not good for testing purposes!"
   ]
  },
  {
   "cell_type": "markdown",
   "id": "63b5b610",
   "metadata": {
    "slideshow": {
     "slide_type": "subslide"
    }
   },
   "source": [
    "Let's use our mocks:"
   ]
  },
  {
   "cell_type": "code",
   "execution_count": null,
   "id": "f72876d9",
   "metadata": {
    "slideshow": {
     "slide_type": "fragment"
    }
   },
   "outputs": [],
   "source": [
    "# Mention again that this is our stuff\n",
    "class TestAPI(unittest.TestCase):\n",
    "    @mock.patch(\"neon.functions.make_request\", return_value=None)\n",
    "    def test_retrieve_data_without_waiting(self, patched_request):\n",
    "        t0 = time.perf_counter()\n",
    "        actual: dict = retrieve_data(waiting=5)\n",
    "        actual_keys: list = [key for key in actual]\n",
    "        expected_keys: list = [\"fact\", \"length\"]\n",
    "        t1 = time.perf_counter() - t0\n",
    "        self.assertEqual(actual_keys, expected_keys)\n",
    "        self.assertLess(t1, 10)\n",
    "    \n",
    "    @mock.patch(\"neon.functions.retrieve_data\", return_value={\"fact\" : \"This is a random fact\", \"length\" : \"-99\"})\n",
    "    def test_process_data_with_custom_load(self, patched_retrieve):\n",
    "        t0 = time.perf_counter()\n",
    "        actual: list = process_data(usernumber=5, waiting=1)\n",
    "        expected: list = [{\"fact\" : \"This is a random fact\", \"length\" : \"-99\"}]*5\n",
    "        t1 = time.perf_counter() - t0\n",
    "        self.assertEqual(actual, expected)\n",
    "        self.assertLess(t1, 10)"
   ]
  },
  {
   "cell_type": "code",
   "execution_count": null,
   "id": "54696e19",
   "metadata": {
    "slideshow": {
     "slide_type": "subslide"
    }
   },
   "outputs": [],
   "source": [
    "first_test_suite = TestAPI()\n",
    "ipytest.run(*test_args)"
   ]
  },
  {
   "cell_type": "code",
   "execution_count": null,
   "id": "8489c39a",
   "metadata": {
    "slideshow": {
     "slide_type": "subslide"
    }
   },
   "outputs": [],
   "source": [
    "class TestSparkFunctions(unittest.TestCase):\n",
    "    @mock.patch(\"pyspark.sql.readwriter.DataFrameWriter.saveAsTable\", new_callable=logging.debug(\"Dataframe saved!\"))\n",
    "    def test_group_and_save_with_random_load(self):\n",
    "        pass\n",
    "    \n",
    "    @mock.patch(\"neon.functions.make_request\", return_value=None)\n",
    "    @mock.patch(\"pyspark.sql.readwriter.DataFrameWriter.saveAsTable\", new_callable=logging.debug(\"Dataframe saved!\"))\n",
    "    def test_group_and_save_with_api_load(self):\n",
    "        pass"
   ]
  },
  {
   "cell_type": "code",
   "execution_count": null,
   "id": "47717603",
   "metadata": {
    "slideshow": {
     "slide_type": "subslide"
    }
   },
   "outputs": [],
   "source": [
    "second_test_suite = TestSparkFunctions()\n",
    "ipytest.run(*test_args)"
   ]
  },
  {
   "cell_type": "markdown",
   "id": "74148403",
   "metadata": {
    "slideshow": {
     "slide_type": "slide"
    }
   },
   "source": [
    "### Problem solved!"
   ]
  },
  {
   "cell_type": "markdown",
   "id": "02a41620",
   "metadata": {
    "slideshow": {
     "slide_type": "fragment"
    }
   },
   "source": [
    "![cat](http://localhost:5500/lib/img2.jpg)"
   ]
  },
  {
   "cell_type": "markdown",
   "id": "ea40e146",
   "metadata": {
    "slideshow": {
     "slide_type": "subslide"
    }
   },
   "source": [
    "### Useful links:\n",
    "[Catfacts (API reference)](https://catfact.ninja/)    \n",
    "[This application (Git repo)](https://github.com/jean-n92/pytest-mock-presentation)    \n",
    "[Where to patch (Documentation)](https://docs.python.org/3/library/unittest.mock.html#where-to-patch)    \n",
    "[Quick start with mock (Documentation)](https://docs.python.org/3/library/unittest.mock.html#quick-guide)\n",
    "[Difference between mock and stub (StackOverflow)](https://stackoverflow.com/questions/3459287/whats-the-difference-between-a-mock-stub)"
   ]
  }
 ],
 "metadata": {
  "celltoolbar": "Slideshow",
  "interpreter": {
   "hash": "4a7b606e264437b67c76b6a90ca9c891af4f0d4e775e00cab262968ebd59eaa3"
  },
  "kernelspec": {
   "display_name": "Python 3 (ipykernel)",
   "language": "python",
   "name": "python3"
  },
  "language_info": {
   "codemirror_mode": {
    "name": "ipython",
    "version": 3
   },
   "file_extension": ".py",
   "mimetype": "text/x-python",
   "name": "python",
   "nbconvert_exporter": "python",
   "pygments_lexer": "ipython3",
   "version": "3.7.0"
  }
 },
 "nbformat": 4,
 "nbformat_minor": 5
}
