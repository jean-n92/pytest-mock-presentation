{
 "cells": [
  {
   "cell_type": "markdown",
   "id": "842b0985",
   "metadata": {
    "slideshow": {
     "slide_type": "slide"
    }
   },
   "source": [
    "## How to make your testing life easier by using unittest.**mock** package\n",
    "\n",
    "### A small introduction to mocking, APIs and cats"
   ]
  },
  {
   "cell_type": "code",
   "execution_count": null,
   "id": "11fedf2d",
   "metadata": {
    "slideshow": {
     "slide_type": "skip"
    }
   },
   "outputs": [],
   "source": [
    "# Hidden imports go here\n",
    "import sys\n",
    "import ipytest\n",
    "import requests\n",
    "import pyspark\n",
    "import unittest\n",
    "from unittest import mock"
   ]
  },
  {
   "cell_type": "markdown",
   "id": "1be981a8",
   "metadata": {
    "slideshow": {
     "slide_type": "slide"
    }
   },
   "source": [
    "Let's start with the *very* basics:"
   ]
  },
  {
   "cell_type": "code",
   "execution_count": null,
   "id": "032b4db2",
   "metadata": {
    "slideshow": {
     "slide_type": "fragment"
    }
   },
   "outputs": [],
   "source": [
    "def a_random_function(arg1: str, arg2: str) -> str:\n",
    "    return arg2 + arg1\n",
    "\n",
    "a_random_function(\"AMRO\", \"ABN\")"
   ]
  },
  {
   "cell_type": "markdown",
   "id": "ba376582",
   "metadata": {
    "slideshow": {
     "slide_type": "subslide"
    }
   },
   "source": [
    "Now let's now make things slightly less linear:"
   ]
  },
  {
   "cell_type": "code",
   "execution_count": null,
   "id": "3a448ab8",
   "metadata": {
    "slideshow": {
     "slide_type": "fragment"
    }
   },
   "outputs": [],
   "source": [
    "def another_function(arg1: int, arg2: int, arg3: str, arg4: str) -> str:\n",
    "    return a_random_function(arg3, arg4) + str((arg1 + arg2)//2)\n",
    "\n",
    "another_function(2, 4, \"ʘ=)∫\", \"(=ʘᆽ\")"
   ]
  },
  {
   "cell_type": "markdown",
   "id": "2bb6fee5",
   "metadata": {
    "slideshow": {
     "slide_type": "subslide"
    }
   },
   "source": [
    "### How is this related to unit testing?    \n",
    "Let's take the definition of *unit testing*. According to Wikipedia (the main source of information for our century), we can define unit testing as:\n",
    ">\"A software testing method by which individual units of source code — sets of one or more computer program modules together with associated control data, usage procedures, and operating procedures — are tested to determine whether they are fit for use.\""
   ]
  },
  {
   "cell_type": "markdown",
   "id": "c9a90a4f",
   "metadata": {
    "slideshow": {
     "slide_type": "subslide"
    }
   },
   "source": [
    "The dilemma is:\n",
    "> \" How can we test something over which we have no control? \""
   ]
  },
  {
   "cell_type": "markdown",
   "id": "684a064b",
   "metadata": {
    "slideshow": {
     "slide_type": "fragment"
    }
   },
   "source": [
    "In our specific case, let's take `a_random_function(arg1, arg2)` as given.    \n",
    "Let's say we import it from some other package, that doesn't belong to us.    "
   ]
  },
  {
   "cell_type": "markdown",
   "id": "0d82496e",
   "metadata": {
    "slideshow": {
     "slide_type": "fragment"
    }
   },
   "source": [
    "We run into this issue many times: the most common time is when we interact with the filesystem."
   ]
  },
  {
   "cell_type": "markdown",
   "id": "688e92ee",
   "metadata": {
    "slideshow": {
     "slide_type": "slide"
    }
   },
   "source": [
    "Let's redefine our `another_function()` as follows:"
   ]
  },
  {
   "cell_type": "code",
   "execution_count": null,
   "id": "075c600e",
   "metadata": {
    "slideshow": {
     "slide_type": "fragment"
    }
   },
   "outputs": [],
   "source": [
    "def another_function(arg1: str, arg2: str) -> str:\n",
    "    return a_random_function(sys.argv[0], sys.argv[1]) + \" - \" + str((arg1 + arg2)//2)\n",
    "\n",
    "another_function(1, 2)"
   ]
  },
  {
   "cell_type": "markdown",
   "id": "a7e98bc5",
   "metadata": {
    "slideshow": {
     "slide_type": "fragment"
    }
   },
   "source": [
    "As you can see, I have no possible control over `sys.argv`: they get defined at runtime, once I run my application.    \n",
    "How can we account for them, or get *some* degree of control?"
   ]
  },
  {
   "cell_type": "markdown",
   "id": "bd198081",
   "metadata": {
    "slideshow": {
     "slide_type": "slide"
    }
   },
   "source": [
    "Fortunately, `unittest.mock` allows us to perform this task in a relatively relaxed way."
   ]
  },
  {
   "cell_type": "code",
   "execution_count": null,
   "id": "79c3b4bb",
   "metadata": {
    "slideshow": {
     "slide_type": "subslide"
    }
   },
   "outputs": [],
   "source": [
    "@mock.patch(\"sys.argv\", [\"One\", \"Two\"])\n",
    "def another_function(arg1: str, arg2: str) -> str:\n",
    "    return a_random_function(sys.argv[0], sys.argv[1]) + \" - \" + str((arg1 + arg2)//2)\n",
    "\n",
    "another_function(10, 200)"
   ]
  },
  {
   "cell_type": "code",
   "execution_count": null,
   "id": "3fa3d8a8",
   "metadata": {
    "slideshow": {
     "slide_type": "fragment"
    }
   },
   "outputs": [],
   "source": [
    "print(sys.argv)"
   ]
  },
  {
   "cell_type": "markdown",
   "id": "aa1f9fe6",
   "metadata": {
    "slideshow": {
     "slide_type": "fragment"
    }
   },
   "source": [
    "![cat](http://localhost:5500/lib/img1.jpg)"
   ]
  },
  {
   "cell_type": "code",
   "execution_count": null,
   "id": "d6dcd07d",
   "metadata": {
    "slideshow": {
     "slide_type": "skip"
    }
   },
   "outputs": [],
   "source": [
    "# Test-related imports go here\n",
    "\n",
    "ipytest.autoconfig()\n",
    "test_args = [\"--showlocals\", \n",
    "            \"-x\", \n",
    "            \"--cov-report\", \n",
    "            \"term-missing\",\n",
    "            \"--cov\",\n",
    "            \"neon.functions\"]"
   ]
  },
  {
   "cell_type": "markdown",
   "id": "48c94f82",
   "metadata": {
    "slideshow": {
     "slide_type": "slide"
    }
   },
   "source": [
    "## Let's get to our cats 🐈\n",
    "Since I really love cats, I'd like to know more about them. Fortunately, someone created the **completely free** [Cat facts API](https://catfact.ninja/) which can return nice (and interesting) facts about our feline friends."
   ]
  },
  {
   "cell_type": "code",
   "execution_count": null,
   "id": "f5ea7c97",
   "metadata": {
    "slideshow": {
     "slide_type": "subslide"
    }
   },
   "outputs": [],
   "source": [
    "requests.get(url=\"https://catfact.ninja/fact\").json()[\"fact\"]"
   ]
  },
  {
   "cell_type": "markdown",
   "id": "e3e830db",
   "metadata": {
    "slideshow": {
     "slide_type": "fragment"
    }
   },
   "source": [
    "Since I love cats so much, I made a whole application to collect facts about them. The application does two main things:\n",
    "- Collects a certain number of facts by querying the API\n",
    "- Saves everything into my local Spark cluster, into a well organized table   \n",
    "\n",
    "I called the application **Neon** (just because that's the first name I got from a random generator)"
   ]
  },
  {
   "cell_type": "markdown",
   "id": "c89d6be5",
   "metadata": {
    "slideshow": {
     "slide_type": "subslide"
    }
   },
   "source": [
    "### Let's start making use of it then!"
   ]
  },
  {
   "cell_type": "code",
   "execution_count": null,
   "id": "42e3c01e",
   "metadata": {
    "slideshow": {
     "slide_type": "fragment"
    }
   },
   "outputs": [],
   "source": [
    "from neon.functions import *"
   ]
  },
  {
   "cell_type": "code",
   "execution_count": null,
   "id": "6439fa09",
   "metadata": {
    "scrolled": true,
    "slideshow": {
     "slide_type": "fragment"
    }
   },
   "outputs": [],
   "source": [
    "interesting_facts = process_data(usernumber=3)"
   ]
  },
  {
   "cell_type": "markdown",
   "id": "be954abf",
   "metadata": {
    "slideshow": {
     "slide_type": "subslide"
    }
   },
   "source": [
    " API call generates a list of JSONs, over which we can easily iterate: "
   ]
  },
  {
   "cell_type": "code",
   "execution_count": null,
   "id": "2c6a7543",
   "metadata": {
    "slideshow": {
     "slide_type": "fragment"
    }
   },
   "outputs": [],
   "source": [
    "for entry in interesting_facts:\n",
    "    print(entry[\"fact\"])"
   ]
  },
  {
   "cell_type": "markdown",
   "id": "eabc0515",
   "metadata": {},
   "source": [
    "Let's now store these important facts inside my table, so then they don't get lost:"
   ]
  },
  {
   "cell_type": "code",
   "execution_count": null,
   "id": "e9100c95",
   "metadata": {
    "slideshow": {
     "slide_type": "subslide"
    }
   },
   "outputs": [],
   "source": [
    "spark = establish_spark()\n",
    "group_and_save(spark, facts=interesting_facts)\n",
    "df = spark.read.table(\"default.random_cats_facts\")"
   ]
  },
  {
   "cell_type": "code",
   "execution_count": null,
   "id": "553ace4c",
   "metadata": {
    "slideshow": {
     "slide_type": "subslide"
    }
   },
   "outputs": [],
   "source": [
    "df.show(100)"
   ]
  },
  {
   "cell_type": "markdown",
   "id": "5a81baa2",
   "metadata": {
    "slideshow": {
     "slide_type": "subslide"
    }
   },
   "source": [
    "As you can see, the whole procedure is very slow. This is due to a random `waiting` variable that I added in order to simulate a slow connection, a very server side, or anything that can get in between.    \n",
    "Since the `waiting` variable polls a random amount of seconds between 1 and 10, we're talking here about an average waiting time of 5 seconds (if you don't believe me, check the [central limit theorem](https://en.wikipedia.org/wiki/Central_limit_theorem) for statistical reference).    "
   ]
  },
  {
   "cell_type": "markdown",
   "id": "05a15aa8",
   "metadata": {
    "slideshow": {
     "slide_type": "slide"
    }
   },
   "source": [
    "### What can I do to make the whole thing more efficient, while testing for the main functionality?"
   ]
  },
  {
   "cell_type": "markdown",
   "id": "accd11d0",
   "metadata": {
    "slideshow": {
     "slide_type": "subslide"
    }
   },
   "source": [
    "There are two main issues over here:\n",
    "1) I don't wanna wait 5 seconds for each call to the API, but I'd like to be sure that the call works nonetheless (i.e. no test data, I don't care about the data: I want my functionality to work)    \n",
    "2) I don't wanna save the data I retrieve every single time, since I have no control over it will be saved: I just know that, as soon as I run the application, the data will be saved somewhere. That's not good for testing purposes!"
   ]
  },
  {
   "cell_type": "markdown",
   "id": "7b2e4487",
   "metadata": {
    "slideshow": {
     "slide_type": "subslide"
    }
   },
   "source": [
    "Let's use our mocks:"
   ]
  },
  {
   "cell_type": "code",
   "execution_count": null,
   "id": "34323694",
   "metadata": {
    "slideshow": {
     "slide_type": "fragment"
    }
   },
   "outputs": [],
   "source": [
    "class TestAPI(unittest.TestCase):\n",
    "    @mock.patch(\"neon.functions.make_request\", return_value=None)\n",
    "    def test_retrieve_data_without_waiting(self, patched_request):\n",
    "        t0 = time.perf_counter()\n",
    "        actual: dict = retrieve_data(waiting=5)\n",
    "        actual_keys: list = [key for key in actual]\n",
    "        expected_keys: list = [\"fact\", \"length\"]\n",
    "        t1 = time.perf_counter() - t0\n",
    "        self.assertEqual(actual_keys, expected_keys)\n",
    "        self.assertLess(t1, 10)\n",
    "    \n",
    "    @mock.patch(\"neon.functions.retrieve_data\", return_value={\"fact\" : \"This is a random fact\", \"length\" : \"-99\"})\n",
    "    def test_process_data_with_custom_load(self, patched_retrieve):\n",
    "        t0 = time.perf_counter()\n",
    "        actual: list = process_data(usernumber=5, waiting=1)\n",
    "        expected: list = [{\"fact\" : \"This is a random fact\", \"length\" : \"-99\"}]*5\n",
    "        t1 = time.perf_counter() - t0\n",
    "        self.assertEqual(actual, expected)\n",
    "        self.assertLess(t1, 10)"
   ]
  },
  {
   "cell_type": "code",
   "execution_count": null,
   "id": "e3d8b85a",
   "metadata": {
    "slideshow": {
     "slide_type": "subslide"
    }
   },
   "outputs": [],
   "source": [
    "first_test_suite = TestAPI()\n",
    "ipytest.run(*test_args)"
   ]
  },
  {
   "cell_type": "code",
   "execution_count": null,
   "id": "56dfecf3",
   "metadata": {
    "slideshow": {
     "slide_type": "subslide"
    }
   },
   "outputs": [],
   "source": [
    "class TestSparkFunctions(unittest.TestCase):\n",
    "    def test_group_and_save_with_random_load(self):\n",
    "        pass\n",
    "\n",
    "    def test_group_and_save_with_api_load(self):\n",
    "        pass\n",
    "\n",
    "ipytest.run(*test_args)"
   ]
  },
  {
   "cell_type": "code",
   "execution_count": null,
   "id": "0533843c",
   "metadata": {
    "slideshow": {
     "slide_type": "subslide"
    }
   },
   "outputs": [],
   "source": [
    "second_test_suite = TestSparkFunctions()\n",
    "ipytest.run(*test_args)"
   ]
  },
  {
   "cell_type": "markdown",
   "id": "a71f315a",
   "metadata": {
    "slideshow": {
     "slide_type": "slide"
    }
   },
   "source": [
    "### Problem solved!"
   ]
  },
  {
   "cell_type": "markdown",
   "id": "ea5e874b",
   "metadata": {
    "slideshow": {
     "slide_type": "fragment"
    }
   },
   "source": [
    "![cat](http://localhost:5500/lib/img2.jpg)"
   ]
  },
  {
   "cell_type": "markdown",
   "id": "4df03e26",
   "metadata": {
    "slideshow": {
     "slide_type": "subslide"
    }
   },
   "source": [
    "### Useful links:\n",
    "[Catfacts (API reference)](https://catfact.ninja/)    \n",
    "[This application (Git repo)](https://github.com/jean-n92/pytest-mock-presentation)    \n",
    "[Where to patch (Documentation)](https://docs.python.org/3/library/unittest.mock.html#where-to-patch)    "
   ]
  }
 ],
 "metadata": {
  "celltoolbar": "Slideshow",
  "interpreter": {
   "hash": "4a7b606e264437b67c76b6a90ca9c891af4f0d4e775e00cab262968ebd59eaa3"
  },
  "kernelspec": {
   "display_name": "Python 3 (ipykernel)",
   "language": "python",
   "name": "python3"
  },
  "language_info": {
   "codemirror_mode": {
    "name": "ipython",
    "version": 3
   },
   "file_extension": ".py",
   "mimetype": "text/x-python",
   "name": "python",
   "nbconvert_exporter": "python",
   "pygments_lexer": "ipython3",
   "version": "3.7.0"
  }
 },
 "nbformat": 4,
 "nbformat_minor": 5
}
