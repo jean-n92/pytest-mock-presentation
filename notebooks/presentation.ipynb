{
 "cells": [
  {
   "cell_type": "markdown",
   "id": "79bdcda8",
   "metadata": {
    "slideshow": {
     "slide_type": "slide"
    }
   },
   "source": [
    "# Make your life easier by using unittest.**mock**\n",
    "\n",
    "### Also, a small introduction to mocking, APIs and cats 🐈"
   ]
  },
  {
   "cell_type": "markdown",
   "id": "aba5d496",
   "metadata": {
    "slideshow": {
     "slide_type": "slide"
    }
   },
   "source": [
    "## What is a mock?\n",
    "### Is it the same as a *stub*? Or as a *dummy*? Or as a *fake*?"
   ]
  },
  {
   "cell_type": "markdown",
   "id": "7276a33a",
   "metadata": {
    "slideshow": {
     "slide_type": "subslide"
    }
   },
   "source": [
    "![SO](http://localhost:5500/lib/img3.png)"
   ]
  },
  {
   "cell_type": "markdown",
   "id": "32fb0052",
   "metadata": {
    "slideshow": {
     "slide_type": "subslide"
    }
   },
   "source": [
    "#### A mock is an *interaction-based* object whose purpose is to *override* other objects and return user-defined values. "
   ]
  },
  {
   "cell_type": "markdown",
   "id": "694c2e60",
   "metadata": {
    "slideshow": {
     "slide_type": "fragment"
    }
   },
   "source": [
    "Its main implementation in Python is via the builtin package `unittest.mock`. [Official documentation](https://docs.python.org/3/library/unittest.mock.html) says that\n",
    ">`unittest.mock` is a library for testing in Python. It allows you to replace parts of your system under test with mock objects and make assertions about how they have been used."
   ]
  },
  {
   "cell_type": "code",
   "execution_count": 2,
   "id": "015094bd",
   "metadata": {
    "slideshow": {
     "slide_type": "skip"
    }
   },
   "outputs": [],
   "source": [
    "# Hidden imports go here\n",
    "import sys\n",
    "import ipytest\n",
    "import requests\n",
    "import pyspark\n",
    "import unittest\n",
    "import time\n",
    "from unittest import mock"
   ]
  },
  {
   "cell_type": "markdown",
   "id": "2d131935",
   "metadata": {
    "slideshow": {
     "slide_type": "slide"
    }
   },
   "source": [
    "Let's start with the *very* basics:"
   ]
  },
  {
   "cell_type": "code",
   "execution_count": 4,
   "id": "f25acb97",
   "metadata": {
    "slideshow": {
     "slide_type": "fragment"
    }
   },
   "outputs": [
    {
     "data": {
      "text/plain": [
       "'ABNAMRO'"
      ]
     },
     "execution_count": 4,
     "metadata": {},
     "output_type": "execute_result"
    }
   ],
   "source": [
    "def a_random_function(arg1: str, arg2: str) -> str:\n",
    "    return arg2 + arg1\n",
    "\n",
    "a_random_function(\"AMRO\", \"ABN\")"
   ]
  },
  {
   "cell_type": "markdown",
   "id": "dd2189b5",
   "metadata": {
    "slideshow": {
     "slide_type": "subslide"
    }
   },
   "source": [
    "Now let's now make things slightly less linear:"
   ]
  },
  {
   "cell_type": "code",
   "execution_count": 5,
   "id": "f7b72cb3",
   "metadata": {
    "slideshow": {
     "slide_type": "fragment"
    }
   },
   "outputs": [
    {
     "data": {
      "text/plain": [
       "'(=ʘᆽʘ=)∫3'"
      ]
     },
     "execution_count": 5,
     "metadata": {},
     "output_type": "execute_result"
    }
   ],
   "source": [
    "def another_function(arg1: int, arg2: int, arg3: str, arg4: str) -> str:\n",
    "    return a_random_function(arg3, arg4) + str((arg1 + arg2)//2)\n",
    "\n",
    "another_function(2, 4, \"ʘ=)∫\", \"(=ʘᆽ\")"
   ]
  },
  {
   "cell_type": "markdown",
   "id": "17b6975a",
   "metadata": {
    "slideshow": {
     "slide_type": "subslide"
    }
   },
   "source": [
    "### How is this related to unit testing?    \n",
    "Let's take the definition of *unit testing*. According to Wikipedia (the main source of information for our century), we can define unit testing as:\n",
    ">\"A software testing method by which individual units of source code — sets of one or more computer program modules together with associated control data, usage procedures, and operating procedures — are tested to determine whether they are fit for use.\""
   ]
  },
  {
   "cell_type": "markdown",
   "id": "086b5e0a",
   "metadata": {
    "slideshow": {
     "slide_type": "subslide"
    }
   },
   "source": [
    "The dilemma is:\n",
    "> \" How can we test something over which we have no control? \""
   ]
  },
  {
   "cell_type": "markdown",
   "id": "c58a3b7d",
   "metadata": {
    "slideshow": {
     "slide_type": "skip"
    }
   },
   "source": [
    "In our specific case, let's take `a_random_function(arg1, arg2)` as given.    \n",
    "Let's say we import it from some other package, that doesn't belong to us.    "
   ]
  },
  {
   "cell_type": "markdown",
   "id": "93ac295b",
   "metadata": {
    "slideshow": {
     "slide_type": "skip"
    }
   },
   "source": [
    "We run into this issue many times: the most common use case is when we interact with the filesystem."
   ]
  },
  {
   "cell_type": "markdown",
   "id": "5711c3af",
   "metadata": {
    "slideshow": {
     "slide_type": "slide"
    }
   },
   "source": [
    "Let's redefine our `another_function()` as follows:"
   ]
  },
  {
   "cell_type": "code",
   "execution_count": 6,
   "id": "4021c59e",
   "metadata": {
    "slideshow": {
     "slide_type": "fragment"
    }
   },
   "outputs": [
    {
     "data": {
      "text/plain": [
       "'-f/home/gian/.pyenv/versions/3.7.0/envs/venv/lib/python3.7/site-packages/ipykernel_launcher.py - 105'"
      ]
     },
     "execution_count": 6,
     "metadata": {},
     "output_type": "execute_result"
    }
   ],
   "source": [
    "def another_function(arg1: str, arg2: str) -> str:\n",
    "    return a_random_function(sys.argv[0], sys.argv[1]) + \" - \" + str((arg1 + arg2)//2)\n",
    "\n",
    "another_function(10, 200)"
   ]
  },
  {
   "cell_type": "markdown",
   "id": "32fa17e4",
   "metadata": {
    "slideshow": {
     "slide_type": "fragment"
    }
   },
   "source": [
    "As you can see, I have no possible control over `sys.argv`: they get defined at runtime, once I run my application.    \n",
    "How can we account for them, or get *some* degree of control?"
   ]
  },
  {
   "cell_type": "markdown",
   "id": "2742e5c3",
   "metadata": {
    "slideshow": {
     "slide_type": "slide"
    }
   },
   "source": [
    "Fortunately, `unittest.mock` allows us to perform this task in a relatively relaxed way."
   ]
  },
  {
   "cell_type": "code",
   "execution_count": 7,
   "id": "350d4a57",
   "metadata": {
    "slideshow": {
     "slide_type": "subslide"
    }
   },
   "outputs": [
    {
     "data": {
      "text/plain": [
       "'TwoOne - 105'"
      ]
     },
     "execution_count": 7,
     "metadata": {},
     "output_type": "execute_result"
    }
   ],
   "source": [
    "@mock.patch(\"sys.argv\", [\"One\", \"Two\"])\n",
    "def another_function(arg1: int, arg2: int) -> str:\n",
    "    return a_random_function(sys.argv[0], sys.argv[1]) + \" - \" + str((arg1 + arg2)//2)\n",
    "\n",
    "another_function(10, 200)"
   ]
  },
  {
   "cell_type": "code",
   "execution_count": 8,
   "id": "431d2875",
   "metadata": {
    "slideshow": {
     "slide_type": "fragment"
    }
   },
   "outputs": [
    {
     "name": "stdout",
     "output_type": "stream",
     "text": [
      "['/home/gian/.pyenv/versions/3.7.0/envs/venv/lib/python3.7/site-packages/ipykernel_launcher.py', '-f', '/home/gian/.local/share/jupyter/runtime/kernel-7ba6d5dc-340f-49dd-91f2-09f973813763.json']\n"
     ]
    }
   ],
   "source": [
    "print(sys.argv)"
   ]
  },
  {
   "cell_type": "markdown",
   "id": "6a7219a8",
   "metadata": {
    "slideshow": {
     "slide_type": "fragment"
    }
   },
   "source": [
    "![cat](http://localhost:5500/lib/img1.jpg)"
   ]
  },
  {
   "cell_type": "code",
   "execution_count": 3,
   "id": "0d267346",
   "metadata": {
    "slideshow": {
     "slide_type": "skip"
    }
   },
   "outputs": [],
   "source": [
    "# Test-related imports go here\n",
    "\n",
    "ipytest.autoconfig()\n",
    "test_args = [\"--showlocals\", \n",
    "            \"-x\", \n",
    "            \"--cov-report\", \n",
    "            \"term-missing\",\n",
    "            \"--cov\",\n",
    "            \"neon.functions\"]"
   ]
  },
  {
   "cell_type": "markdown",
   "id": "90cc4fab",
   "metadata": {
    "slideshow": {
     "slide_type": "slide"
    }
   },
   "source": [
    "## Let's get to our cats 🐈\n",
    "Since I really love cats, I'd like to know more about them.    \n",
    "Fortunately, someone created the **completely free** [Cat facts API](https://catfact.ninja/) which can return nice (and interesting) facts about our feline friends."
   ]
  },
  {
   "cell_type": "code",
   "execution_count": 9,
   "id": "2bc8b5fe",
   "metadata": {
    "scrolled": true,
    "slideshow": {
     "slide_type": "subslide"
    }
   },
   "outputs": [
    {
     "data": {
      "text/plain": [
       "'The first commercially cloned pet was a cat named \"Little Nicky.\" He cost his owner $50,000, making him one of the most expensive cats ever.'"
      ]
     },
     "execution_count": 9,
     "metadata": {},
     "output_type": "execute_result"
    }
   ],
   "source": [
    "requests.get(url=\"https://catfact.ninja/fact\").json()[\"fact\"]"
   ]
  },
  {
   "cell_type": "markdown",
   "id": "b54bc296",
   "metadata": {
    "slideshow": {
     "slide_type": "fragment"
    }
   },
   "source": [
    "For the purpose of this presentation, I made a **whole application** to collect facts about cats. The application does two main things:\n",
    "- Collects a certain number of facts by querying the API\n",
    "- Saves everything as a nice table into my local HIVE metastore\n",
    "\n",
    "I called the application **Neon** (just because that's the first name I got from a random generator).    \n",
    "The application code and its tests are freely available on my Github profile (link at the end of the presentation)."
   ]
  },
  {
   "cell_type": "markdown",
   "id": "fb6f4535",
   "metadata": {
    "slideshow": {
     "slide_type": "subslide"
    }
   },
   "source": [
    "### Let's start making use of it then!"
   ]
  },
  {
   "cell_type": "code",
   "execution_count": 10,
   "id": "8e6dfb83",
   "metadata": {
    "slideshow": {
     "slide_type": "fragment"
    }
   },
   "outputs": [],
   "source": [
    "from neon.functions import *"
   ]
  },
  {
   "cell_type": "markdown",
   "id": "a052ee0c",
   "metadata": {
    "slideshow": {
     "slide_type": "fragment"
    }
   },
   "source": [
    "![outline](http://localhost:5500/lib/img4.png)"
   ]
  },
  {
   "cell_type": "code",
   "execution_count": 11,
   "id": "e20dc39a",
   "metadata": {
    "scrolled": true,
    "slideshow": {
     "slide_type": "fragment"
    }
   },
   "outputs": [
    {
     "name": "stderr",
     "output_type": "stream",
     "text": [
      "2021-08-25 10:39:09,966 - DEBUG - Now arranging API call to https://catfact.ninja/fact\n",
      "2021-08-25 10:39:11,972 - DEBUG - Time elapsed: 2.0 seconds\n",
      "2021-08-25 10:39:11,974 - DEBUG - Starting call now\n",
      "2021-08-25 10:39:11,979 - DEBUG - Starting new HTTPS connection (1): catfact.ninja:443\n",
      "2021-08-25 10:39:12,529 - DEBUG - https://catfact.ninja:443 \"GET /fact HTTP/1.1\" 200 None\n",
      "2021-08-25 10:39:12,532 - DEBUG - Load 1 of 3 is done\n",
      "2021-08-25 10:39:12,533 - DEBUG - Now arranging API call to https://catfact.ninja/fact\n",
      "2021-08-25 10:39:15,539 - DEBUG - Time elapsed: 3.0 seconds\n",
      "2021-08-25 10:39:15,540 - DEBUG - Starting call now\n",
      "2021-08-25 10:39:15,543 - DEBUG - Starting new HTTPS connection (1): catfact.ninja:443\n",
      "2021-08-25 10:39:16,074 - DEBUG - https://catfact.ninja:443 \"GET /fact HTTP/1.1\" 200 None\n",
      "2021-08-25 10:39:16,077 - DEBUG - Load 2 of 3 is done\n",
      "2021-08-25 10:39:16,078 - DEBUG - Now arranging API call to https://catfact.ninja/fact\n",
      "2021-08-25 10:39:17,082 - DEBUG - Time elapsed: 1.0 seconds\n",
      "2021-08-25 10:39:17,083 - DEBUG - Starting call now\n",
      "2021-08-25 10:39:17,086 - DEBUG - Starting new HTTPS connection (1): catfact.ninja:443\n",
      "2021-08-25 10:39:17,614 - DEBUG - https://catfact.ninja:443 \"GET /fact HTTP/1.1\" 200 None\n",
      "2021-08-25 10:39:17,618 - DEBUG - Load 3 of 3 is done\n"
     ]
    }
   ],
   "source": [
    "interesting_facts = process_data(usernumber=3)"
   ]
  },
  {
   "cell_type": "markdown",
   "id": "cdef8d82",
   "metadata": {
    "slideshow": {
     "slide_type": "subslide"
    }
   },
   "source": [
    "Each API call generates a JSONs.    \n",
    "`process_data()` conveniently packs them into a list, over which we can easily iterate: "
   ]
  },
  {
   "cell_type": "code",
   "execution_count": 12,
   "id": "da62dca1",
   "metadata": {
    "scrolled": true,
    "slideshow": {
     "slide_type": "fragment"
    }
   },
   "outputs": [
    {
     "name": "stdout",
     "output_type": "stream",
     "text": [
      "A domestic cat can run at speeds of 30 mph.\n",
      "The first official cat show in the UK was organised at Crystal Palace in 1871.\n",
      "The smallest pedigreed cat is a Singapura, which can weigh just 4 lbs (1.8 kg), or about five large cans of cat food. The largest pedigreed cats are Maine Coon cats, which can weigh 25 lbs (11.3 kg), or nearly twice as much as an average cat weighs.\n"
     ]
    }
   ],
   "source": [
    "for entry in interesting_facts:\n",
    "    print(entry[\"fact\"])"
   ]
  },
  {
   "cell_type": "markdown",
   "id": "5f4996da",
   "metadata": {},
   "source": [
    "Let's now store these important facts inside my table, so then they don't get lost:"
   ]
  },
  {
   "cell_type": "code",
   "execution_count": 13,
   "id": "e05ec593",
   "metadata": {
    "scrolled": false,
    "slideshow": {
     "slide_type": "subslide"
    }
   },
   "outputs": [
    {
     "name": "stderr",
     "output_type": "stream",
     "text": [
      "2021-08-25 10:40:05,946 - DEBUG - Now establishing the Spark Session\n",
      "21/08/25 10:40:08 WARN Utils: Your hostname, XPS-13 resolves to a loopback address: 127.0.1.1; using 172.26.53.226 instead (on interface eth0)\n",
      "21/08/25 10:40:08 WARN Utils: Set SPARK_LOCAL_IP if you need to bind to another address\n",
      "WARNING: An illegal reflective access operation has occurred\n",
      "WARNING: Illegal reflective access by org.apache.spark.unsafe.Platform (file:/home/gian/.pyenv/versions/3.7.0/envs/venv/lib/python3.7/site-packages/pyspark/jars/spark-unsafe_2.12-3.1.2.jar) to constructor java.nio.DirectByteBuffer(long,int)\n",
      "WARNING: Please consider reporting this to the maintainers of org.apache.spark.unsafe.Platform\n",
      "WARNING: Use --illegal-access=warn to enable warnings of further illegal reflective access operations\n",
      "WARNING: All illegal access operations will be denied in a future release\n",
      "21/08/25 10:40:10 WARN NativeCodeLoader: Unable to load native-hadoop library for your platform... using builtin-java classes where applicable\n",
      "Using Spark's default log4j profile: org/apache/spark/log4j-defaults.properties\n",
      "Setting default log level to \"WARN\".\n",
      "To adjust logging level use sc.setLogLevel(newLevel). For SparkR, use setLogLevel(newLevel).\n",
      "2021-08-25 10:40:15,071 - DEBUG - Spark session is established\n",
      "2021-08-25 10:40:15,073 - DEBUG - Grouping cat facts list, 3 elements\n",
      "2021-08-25 10:40:15,074 - DEBUG - Spark context retrieved\n",
      "2021-08-25 10:40:21,014 - DEBUG - Dataframe created                             \n",
      "21/08/25 10:40:23 WARN HiveConf: HiveConf of name hive.stats.jdbc.timeout does not exist\n",
      "21/08/25 10:40:23 WARN HiveConf: HiveConf of name hive.stats.retries.wait does not exist\n",
      "21/08/25 10:40:26 WARN ObjectStore: Version information not found in metastore. hive.metastore.schema.verification is not enabled so recording the schema version 2.3.0\n",
      "21/08/25 10:40:26 WARN ObjectStore: setMetaStoreSchemaVersion called but recording version is disabled: version = 2.3.0, comment = Set by MetaStore gian@127.0.1.1\n",
      "21/08/25 10:40:28 WARN ObjectStore: Failed to get database global_temp, returning NoSuchObjectException\n",
      "21/08/25 10:40:28 WARN HadoopFSUtils: The directory file:/home/gian/my-repos/pytest-mock-presentation/local_warehouse/random_cats_facts was not found. Was it deleted very recently?\n",
      "21/08/25 10:40:31 WARN SessionState: METASTORE_FILTER_HOOK will be ignored, since hive.security.authorization.manager is set to instance of HiveAuthorizerFactory.\n",
      "21/08/25 10:40:31 WARN HiveConf: HiveConf of name hive.internal.ss.authz.settings.applied.marker does not exist\n",
      "21/08/25 10:40:31 WARN HiveConf: HiveConf of name hive.stats.jdbc.timeout does not exist\n",
      "21/08/25 10:40:31 WARN HiveConf: HiveConf of name hive.stats.retries.wait does not exist\n",
      "2021-08-25 10:40:31,723 - DEBUG - Table has been saved\n"
     ]
    }
   ],
   "source": [
    "spark = establish_spark()\n",
    "group_and_save(spark, facts=interesting_facts)\n",
    "df = spark.read.table(\"default.random_cats_facts\")"
   ]
  },
  {
   "cell_type": "code",
   "execution_count": 15,
   "id": "09f63d7c",
   "metadata": {
    "scrolled": false,
    "slideshow": {
     "slide_type": "subslide"
    }
   },
   "outputs": [
    {
     "name": "stdout",
     "output_type": "stream",
     "text": [
      "+---------------------------------------------------------------------------------------------------------------------------------------------------------------------------------------------------------------------------------------------------------+------+--------------------------+\n",
      "|fact                                                                                                                                                                                                                                                     |length|load_dts                  |\n",
      "+---------------------------------------------------------------------------------------------------------------------------------------------------------------------------------------------------------------------------------------------------------+------+--------------------------+\n",
      "|The smallest pedigreed cat is a Singapura, which can weigh just 4 lbs (1.8 kg), or about five large cans of cat food. The largest pedigreed cats are Maine Coon cats, which can weigh 25 lbs (11.3 kg), or nearly twice as much as an average cat weighs.|249   |2021-08-25 10:40:28.192128|\n",
      "|The first official cat show in the UK was organised at Crystal Palace in 1871.                                                                                                                                                                           |78    |2021-08-25 10:40:28.192128|\n",
      "|A domestic cat can run at speeds of 30 mph.                                                                                                                                                                                                              |43    |2021-08-25 10:40:28.192128|\n",
      "+---------------------------------------------------------------------------------------------------------------------------------------------------------------------------------------------------------------------------------------------------------+------+--------------------------+\n",
      "\n"
     ]
    }
   ],
   "source": [
    "df.show(100,0)"
   ]
  },
  {
   "cell_type": "markdown",
   "id": "0f20004f",
   "metadata": {
    "slideshow": {
     "slide_type": "subslide"
    }
   },
   "source": [
    "As you can see, the whole procedure is **very slow**."
   ]
  },
  {
   "cell_type": "markdown",
   "id": "49e24244",
   "metadata": {
    "slideshow": {
     "slide_type": "fragment"
    }
   },
   "source": [
    "This is due to a random `waiting` variable that I added in order to simulate a slow connection, a very inefficient backend on the server side, or anything that can get in between."
   ]
  },
  {
   "cell_type": "markdown",
   "id": "70142a81",
   "metadata": {
    "slideshow": {
     "slide_type": "fragment"
    }
   },
   "source": [
    "Since the `waiting` variable polls a random amount of seconds between 1 and 10, we're talking here about an *average* waiting time of *5 seconds per request*.\n",
    "In case you don't believe me, check the [central limit theorem](https://en.wikipedia.org/wiki/Central_limit_theorem) for statistical reference 🤓"
   ]
  },
  {
   "cell_type": "markdown",
   "id": "0b3fa8ed",
   "metadata": {
    "slideshow": {
     "slide_type": "slide"
    }
   },
   "source": [
    "### What can I do to make the whole thing more efficient, while testing for the main functionality?"
   ]
  },
  {
   "cell_type": "markdown",
   "id": "c773f30a",
   "metadata": {
    "slideshow": {
     "slide_type": "subslide"
    }
   },
   "source": [
    "There are two main issues over here:\n",
    "1) **I don't wanna wait 5 seconds for each call to the API**, but I'd like to be sure that the call works nonetheless (i.e. no test data, I don't care about the data: I want my functionality to work)    \n",
    "2) **I don't wanna save the data I retrieve every single time**, since I have no control over its saving process. I just know that, as soon as I run the application, the data will be saved somewhere. That's not good for testing purposes!"
   ]
  },
  {
   "cell_type": "markdown",
   "id": "a5525d7f",
   "metadata": {
    "slideshow": {
     "slide_type": "subslide"
    }
   },
   "source": [
    "Let's use our mocks:"
   ]
  },
  {
   "cell_type": "code",
   "execution_count": 16,
   "id": "de104e72",
   "metadata": {
    "slideshow": {
     "slide_type": "fragment"
    }
   },
   "outputs": [],
   "source": [
    "class TestAPI(unittest.TestCase):\n",
    "    @mock.patch(\"neon.functions.make_request\", return_value=None)\n",
    "    def test_retrieve_data_without_waiting(self, patched_request):\n",
    "        t0 = time.perf_counter()\n",
    "        actual: dict = retrieve_data(waiting=5)\n",
    "        actual_keys: list = [key for key in actual]\n",
    "        expected_keys: list = [\"fact\", \"length\"]\n",
    "        t1 = time.perf_counter() - t0\n",
    "        self.assertEqual(actual_keys, expected_keys)\n",
    "        self.assertLess(t1, 10)\n",
    "    \n",
    "    @mock.patch(\"neon.functions.retrieve_data\", return_value={\"fact\" : \"This is a random fact\", \"length\" : \"-99\"})\n",
    "    def test_process_data_with_custom_load(self, patched_retrieve):\n",
    "        t0 = time.perf_counter()\n",
    "        actual: list = process_data(usernumber=5, waiting=5)\n",
    "        expected: list = [{\"fact\" : \"This is a random fact\", \"length\" : \"-99\"}]*5\n",
    "        t1 = time.perf_counter() - t0\n",
    "        self.assertEqual(actual, expected)\n",
    "        self.assertLess(t1, 10)"
   ]
  },
  {
   "cell_type": "code",
   "execution_count": 17,
   "id": "fb9c0a3f",
   "metadata": {
    "slideshow": {
     "slide_type": "subslide"
    }
   },
   "outputs": [
    {
     "name": "stderr",
     "output_type": "stream",
     "text": [
      "2021-08-25 10:46:39,400 - DEBUG - Load 1 of 5 is done\n",
      "2021-08-25 10:46:39,403 - DEBUG - Load 2 of 5 is done\n",
      "2021-08-25 10:46:39,404 - DEBUG - Load 3 of 5 is done\n",
      "2021-08-25 10:46:39,406 - DEBUG - Load 4 of 5 is done\n",
      "2021-08-25 10:46:39,407 - DEBUG - Load 5 of 5 is done\n"
     ]
    },
    {
     "name": "stdout",
     "output_type": "stream",
     "text": [
      "\u001b[32m.\u001b[0m"
     ]
    },
    {
     "name": "stderr",
     "output_type": "stream",
     "text": [
      "2021-08-25 10:46:39,458 - DEBUG - Now arranging API call to https://catfact.ninja/fact\n",
      "2021-08-25 10:46:39,461 - DEBUG - Starting call now\n",
      "2021-08-25 10:46:39,475 - DEBUG - Starting new HTTPS connection (1): catfact.ninja:443\n",
      "2021-08-25 10:46:40,063 - DEBUG - https://catfact.ninja:443 \"GET /fact HTTP/1.1\" 200 None\n"
     ]
    },
    {
     "name": "stdout",
     "output_type": "stream",
     "text": [
      "\u001b[32m.\u001b[0m\u001b[32m                                                                                           [100%]\u001b[0m\n",
      "\n",
      "----------- coverage: platform linux, python 3.7.0-final-0 -----------\n",
      "Name                                                             Stmts   Miss  Cover   Missing\n",
      "----------------------------------------------------------------------------------------------\n",
      "/home/gian/my-repos/pytest-mock-presentation/neon/functions.py      53     41    23%   4-37, 52, 69-110\n",
      "----------------------------------------------------------------------------------------------\n",
      "TOTAL                                                               53     41    23%\n",
      "\n",
      "\u001b[32m\u001b[32m\u001b[1m2 passed\u001b[0m\u001b[32m in 0.76s\u001b[0m\u001b[0m\n"
     ]
    }
   ],
   "source": [
    "first_test_suite = TestAPI()\n",
    "ipytest.run(*test_args)"
   ]
  },
  {
   "cell_type": "markdown",
   "id": "3c0f6a20",
   "metadata": {
    "slideshow": {
     "slide_type": "subslide"
    }
   },
   "source": [
    "And now to the Spark part:"
   ]
  },
  {
   "cell_type": "code",
   "execution_count": 18,
   "id": "0e7e1a37",
   "metadata": {
    "slideshow": {
     "slide_type": "fragment"
    }
   },
   "outputs": [],
   "source": [
    "class TestSparkFunctions(unittest.TestCase):\n",
    "    @classmethod\n",
    "    def setUpClass(cls) -> None:\n",
    "        cls.mocked_data: List[dict] = [{\"fact\": \"This is a random fact\", \"length\": \"-99\"}]\n",
    "\n",
    "    @mock.patch(\"pyspark.sql.readwriter.DataFrameWriter.saveAsTable\")\n",
    "    def test_group_and_save_with_patching(self, patched_writer):\n",
    "        patched_writer.new = True\n",
    "        spark: SparkSession = establish_spark()\n",
    "        data: List[dict] = self.mocked_data\n",
    "        group_and_save(spark, data)\n",
    "        patched_writer.assert_called()\n",
    "\n",
    "    @mock.patch(\"neon.functions.make_request\", return_value=None)\n",
    "    def test_group_and_save_with_api_load(self, patched_request):\n",
    "        mocked_save = mock.create_autospec(group_and_save)\n",
    "        spark: SparkSession = establish_spark()\n",
    "        data: list[dict] = process_data(usernumber=5, waiting=2)\n",
    "        expected: bool = mocked_save(spark, data)\n",
    "        mocked_save.assert_called()\n",
    "        self.assertTrue(expected)"
   ]
  },
  {
   "cell_type": "code",
   "execution_count": 19,
   "id": "7d101329",
   "metadata": {
    "slideshow": {
     "slide_type": "subslide"
    }
   },
   "outputs": [
    {
     "name": "stderr",
     "output_type": "stream",
     "text": [
      "2021-08-25 10:52:50,787 - DEBUG - Load 1 of 5 is done\n",
      "2021-08-25 10:52:50,789 - DEBUG - Load 2 of 5 is done\n",
      "2021-08-25 10:52:50,791 - DEBUG - Load 3 of 5 is done\n",
      "2021-08-25 10:52:50,793 - DEBUG - Load 4 of 5 is done\n",
      "2021-08-25 10:52:50,795 - DEBUG - Load 5 of 5 is done\n"
     ]
    },
    {
     "name": "stdout",
     "output_type": "stream",
     "text": [
      "\u001b[32m.\u001b[0m"
     ]
    },
    {
     "name": "stderr",
     "output_type": "stream",
     "text": [
      "2021-08-25 10:52:50,807 - DEBUG - Now arranging API call to https://catfact.ninja/fact\n",
      "2021-08-25 10:52:50,809 - DEBUG - Starting call now\n",
      "2021-08-25 10:52:50,821 - DEBUG - Starting new HTTPS connection (1): catfact.ninja:443\n",
      "2021-08-25 10:52:51,416 - DEBUG - https://catfact.ninja:443 \"GET /fact HTTP/1.1\" 200 None\n"
     ]
    },
    {
     "name": "stdout",
     "output_type": "stream",
     "text": [
      "\u001b[32m.\u001b[0m"
     ]
    },
    {
     "name": "stderr",
     "output_type": "stream",
     "text": [
      "2021-08-25 10:52:51,435 - DEBUG - Now establishing the Spark Session\n",
      "2021-08-25 10:52:51,448 - DEBUG - Spark session is established\n",
      "2021-08-25 10:52:51,450 - DEBUG - Now arranging API call to https://catfact.ninja/fact\n",
      "2021-08-25 10:52:51,452 - DEBUG - Starting call now\n",
      "2021-08-25 10:52:51,461 - DEBUG - Starting new HTTPS connection (1): catfact.ninja:443\n",
      "2021-08-25 10:52:51,986 - DEBUG - https://catfact.ninja:443 \"GET /fact HTTP/1.1\" 200 None\n",
      "2021-08-25 10:52:51,991 - DEBUG - Load 1 of 5 is done\n",
      "2021-08-25 10:52:51,993 - DEBUG - Now arranging API call to https://catfact.ninja/fact\n",
      "2021-08-25 10:52:51,996 - DEBUG - Starting call now\n",
      "2021-08-25 10:52:52,004 - DEBUG - Starting new HTTPS connection (1): catfact.ninja:443\n",
      "2021-08-25 10:52:52,535 - DEBUG - https://catfact.ninja:443 \"GET /fact HTTP/1.1\" 200 None\n",
      "2021-08-25 10:52:52,540 - DEBUG - Load 2 of 5 is done\n",
      "2021-08-25 10:52:52,542 - DEBUG - Now arranging API call to https://catfact.ninja/fact\n",
      "2021-08-25 10:52:52,544 - DEBUG - Starting call now\n",
      "2021-08-25 10:52:52,551 - DEBUG - Starting new HTTPS connection (1): catfact.ninja:443\n",
      "2021-08-25 10:52:53,089 - DEBUG - https://catfact.ninja:443 \"GET /fact HTTP/1.1\" 200 None\n",
      "2021-08-25 10:52:53,095 - DEBUG - Load 3 of 5 is done\n",
      "2021-08-25 10:52:53,101 - DEBUG - Now arranging API call to https://catfact.ninja/fact\n",
      "2021-08-25 10:52:53,104 - DEBUG - Starting call now\n",
      "2021-08-25 10:52:53,113 - DEBUG - Starting new HTTPS connection (1): catfact.ninja:443\n",
      "2021-08-25 10:52:53,640 - DEBUG - https://catfact.ninja:443 \"GET /fact HTTP/1.1\" 200 None\n",
      "2021-08-25 10:52:53,652 - DEBUG - Load 4 of 5 is done\n",
      "2021-08-25 10:52:53,654 - DEBUG - Now arranging API call to https://catfact.ninja/fact\n",
      "2021-08-25 10:52:53,656 - DEBUG - Starting call now\n",
      "2021-08-25 10:52:53,666 - DEBUG - Starting new HTTPS connection (1): catfact.ninja:443\n",
      "2021-08-25 10:52:54,203 - DEBUG - https://catfact.ninja:443 \"GET /fact HTTP/1.1\" 200 None\n",
      "2021-08-25 10:52:54,208 - DEBUG - Load 5 of 5 is done\n"
     ]
    },
    {
     "name": "stdout",
     "output_type": "stream",
     "text": [
      "\u001b[32m.\u001b[0m"
     ]
    },
    {
     "name": "stderr",
     "output_type": "stream",
     "text": [
      "2021-08-25 10:52:54,221 - DEBUG - Now establishing the Spark Session\n",
      "2021-08-25 10:52:54,232 - DEBUG - Spark session is established\n",
      "2021-08-25 10:52:54,234 - DEBUG - Grouping cat facts list, 1 elements\n",
      "2021-08-25 10:52:54,236 - DEBUG - Spark context retrieved\n",
      "2021-08-25 10:52:54,556 - DEBUG - Dataframe created\n",
      "2021-08-25 10:52:54,619 - DEBUG - Table has been saved\n"
     ]
    },
    {
     "name": "stdout",
     "output_type": "stream",
     "text": [
      "\u001b[32m.\u001b[0m\u001b[32m                                                                                         [100%]\u001b[0m\n",
      "\n",
      "----------- coverage: platform linux, python 3.7.0-final-0 -----------\n",
      "Name                                                             Stmts   Miss  Cover   Missing\n",
      "----------------------------------------------------------------------------------------------\n",
      "/home/gian/my-repos/pytest-mock-presentation/neon/functions.py      53     25    53%   4-37, 52, 69, 88, 109-110\n",
      "----------------------------------------------------------------------------------------------\n",
      "TOTAL                                                               53     25    53%\n",
      "\n",
      "\u001b[32m\u001b[32m\u001b[1m4 passed\u001b[0m\u001b[32m in 3.90s\u001b[0m\u001b[0m\n"
     ]
    }
   ],
   "source": [
    "second_test_suite = TestSparkFunctions()\n",
    "ipytest.run(*test_args)"
   ]
  },
  {
   "cell_type": "markdown",
   "id": "61d2ed97",
   "metadata": {
    "slideshow": {
     "slide_type": "slide"
    }
   },
   "source": [
    "### Problem solved!"
   ]
  },
  {
   "cell_type": "markdown",
   "id": "08cf1e71",
   "metadata": {
    "slideshow": {
     "slide_type": "fragment"
    }
   },
   "source": [
    "![cat](http://localhost:5500/lib/img2.jpg)"
   ]
  },
  {
   "cell_type": "markdown",
   "id": "4b8183ec",
   "metadata": {
    "slideshow": {
     "slide_type": "subslide"
    }
   },
   "source": [
    "### Useful links:\n",
    "[Catfacts (API reference)](https://catfact.ninja/)    \n",
    "[This application (Git repo)](https://github.com/jean-n92/pytest-mock-presentation)    \n",
    "[Where to patch (Documentation)](https://docs.python.org/3/library/unittest.mock.html#where-to-patch)    \n",
    "[Quick start with mock (Documentation)](https://docs.python.org/3/library/unittest.mock.html#quick-guide)    \n",
    "[Difference between mock and stub (StackOverflow)](https://stackoverflow.com/questions/3459287/whats-the-difference-between-a-mock-stub)"
   ]
  }
 ],
 "metadata": {
  "celltoolbar": "Slideshow",
  "interpreter": {
   "hash": "4a7b606e264437b67c76b6a90ca9c891af4f0d4e775e00cab262968ebd59eaa3"
  },
  "kernelspec": {
   "display_name": "Python 3 (ipykernel)",
   "language": "python",
   "name": "python3"
  },
  "language_info": {
   "codemirror_mode": {
    "name": "ipython",
    "version": 3
   },
   "file_extension": ".py",
   "mimetype": "text/x-python",
   "name": "python",
   "nbconvert_exporter": "python",
   "pygments_lexer": "ipython3",
   "version": "3.7.0"
  }
 },
 "nbformat": 4,
 "nbformat_minor": 5
}
