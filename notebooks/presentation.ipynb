{
 "cells": [
  {
   "cell_type": "markdown",
   "id": "842b0985",
   "metadata": {
    "slideshow": {
     "slide_type": "slide"
    }
   },
   "source": [
    "## How to make your testing life easier by using unittest.**mock** package\n",
    "\n",
    "### A small introduction to mocking, APIs and cats"
   ]
  },
  {
   "cell_type": "code",
   "execution_count": 101,
   "id": "11fedf2d",
   "metadata": {
    "slideshow": {
     "slide_type": "skip"
    }
   },
   "outputs": [],
   "source": [
    "# Hidden imports go here\n",
    "import sys\n",
    "import ipytest\n",
    "import requests\n",
    "from unittest import mock"
   ]
  },
  {
   "cell_type": "markdown",
   "id": "1be981a8",
   "metadata": {
    "slideshow": {
     "slide_type": "slide"
    }
   },
   "source": [
    "Let's start with the *very* basics:"
   ]
  },
  {
   "cell_type": "code",
   "execution_count": null,
   "id": "032b4db2",
   "metadata": {
    "slideshow": {
     "slide_type": "fragment"
    }
   },
   "outputs": [],
   "source": [
    "def a_random_function(arg1: str, arg2: str) -> str:\n",
    "    return arg2 + arg1\n",
    "\n",
    "a_random_function(\"AMRO\", \"ABN\")"
   ]
  },
  {
   "cell_type": "markdown",
   "id": "ba376582",
   "metadata": {
    "slideshow": {
     "slide_type": "subslide"
    }
   },
   "source": [
    "Now let's now make things slightly less linear:"
   ]
  },
  {
   "cell_type": "code",
   "execution_count": null,
   "id": "3a448ab8",
   "metadata": {
    "slideshow": {
     "slide_type": "fragment"
    }
   },
   "outputs": [],
   "source": [
    "def another_function(arg1: int, arg2: int, arg3: str, arg4: str) -> str:\n",
    "    return a_random_function(arg3, arg4) + str((arg1 + arg2)//2)\n",
    "\n",
    "another_function(2, 4, \"ʘ=)∫\", \"(=ʘᆽ\")"
   ]
  },
  {
   "cell_type": "markdown",
   "id": "2bb6fee5",
   "metadata": {
    "slideshow": {
     "slide_type": "subslide"
    }
   },
   "source": [
    "### How is this related to unit testing?    \n",
    "Let's take the definition of *unit testing*. According to Wikipedia (the main source of information for our century), we can define unit testing as:\n",
    ">\"A software testing method by which individual units of source code — sets of one or more computer program modules together with associated control data, usage procedures, and operating procedures — are tested to determine whether they are fit for use.\""
   ]
  },
  {
   "cell_type": "markdown",
   "id": "c9a90a4f",
   "metadata": {
    "slideshow": {
     "slide_type": "subslide"
    }
   },
   "source": [
    "The dilemma is, *how can we test something over which we have no control*?\n",
    "In our specific case, let's take `a_random_function(arg1, arg2)` as given. Let's say we import it from some other package, that doesn't belong to us.    \n",
    "After all, we run into this issue many times: the most common time is when we interact with the filesystem."
   ]
  },
  {
   "cell_type": "markdown",
   "id": "688e92ee",
   "metadata": {
    "slideshow": {
     "slide_type": "slide"
    }
   },
   "source": [
    "Let's redefine our `another_function()` as follows:"
   ]
  },
  {
   "cell_type": "code",
   "execution_count": null,
   "id": "075c600e",
   "metadata": {
    "slideshow": {
     "slide_type": "fragment"
    }
   },
   "outputs": [],
   "source": [
    "def another_function(arg1: str, arg2: str) -> str:\n",
    "    return a_random_function(sys.argv[0], sys.argv[1]) + \" - \" + str((arg1 + arg2)//2)\n",
    "\n",
    "another_function(1, 2)"
   ]
  },
  {
   "cell_type": "markdown",
   "id": "a7e98bc5",
   "metadata": {
    "slideshow": {
     "slide_type": "fragment"
    }
   },
   "source": [
    "As you can see, I have no possible control over `sys.argv`: they get defined at runtime, once I run my application.    \n",
    "What is then the best way of testing for them?"
   ]
  },
  {
   "cell_type": "markdown",
   "id": "bd198081",
   "metadata": {
    "slideshow": {
     "slide_type": "slide"
    }
   },
   "source": [
    "Fortunately, `unittest.mock` allows us to perform this task in a relatively relaxed way."
   ]
  },
  {
   "cell_type": "code",
   "execution_count": 99,
   "id": "79c3b4bb",
   "metadata": {
    "slideshow": {
     "slide_type": "subslide"
    }
   },
   "outputs": [
    {
     "data": {
      "text/plain": [
       "'TwoOne - 105'"
      ]
     },
     "execution_count": 99,
     "metadata": {},
     "output_type": "execute_result"
    }
   ],
   "source": [
    "@mock.patch(\"sys.argv\", [\"One\", \"Two\"])\n",
    "def another_function(arg1: str, arg2: str) -> str:\n",
    "    return a_random_function(sys.argv[0], sys.argv[1]) + \" - \" + str((arg1 + arg2)//2)\n",
    "\n",
    "another_function(10, 200)"
   ]
  },
  {
   "cell_type": "code",
   "execution_count": 98,
   "id": "3fa3d8a8",
   "metadata": {
    "slideshow": {
     "slide_type": "fragment"
    }
   },
   "outputs": [
    {
     "name": "stdout",
     "output_type": "stream",
     "text": [
      "['/home/gian/.pyenv/versions/3.7.0/envs/venv/lib/python3.7/site-packages/ipykernel_launcher.py', '-f', '/home/gian/.local/share/jupyter/runtime/kernel-2bd513ec-9748-4168-b513-07ad5a95e220.json']\n"
     ]
    }
   ],
   "source": [
    "print(sys.argv)"
   ]
  },
  {
   "cell_type": "markdown",
   "id": "aa1f9fe6",
   "metadata": {
    "slideshow": {
     "slide_type": "fragment"
    }
   },
   "source": [
    "![cat](http://localhost:5500/lib/img1.jpg)"
   ]
  },
  {
   "cell_type": "code",
   "execution_count": null,
   "id": "d6dcd07d",
   "metadata": {
    "slideshow": {
     "slide_type": "skip"
    }
   },
   "outputs": [],
   "source": [
    "from neon.functions import *\n",
    "ipytest.autoconfig()\n",
    "test_args = [\"--showlocals\", \n",
    "            \"-x\", \n",
    "            \"--cov-report\", \n",
    "            \"term-missing\",\n",
    "            \"--cov\",\n",
    "            \"neon.functions\"]"
   ]
  },
  {
   "cell_type": "markdown",
   "id": "48c94f82",
   "metadata": {
    "slideshow": {
     "slide_type": "slide"
    }
   },
   "source": [
    "## Let's get to our cats\n",
    "Since I really love cats, I'd like to know more about them. Fortunately, someone created the **completely free** [Cat facts API](https://catfact.ninja/) which can return nice (and interesting) facts about our feline friends."
   ]
  },
  {
   "cell_type": "code",
   "execution_count": 108,
   "id": "f5ea7c97",
   "metadata": {
    "slideshow": {
     "slide_type": "subslide"
    }
   },
   "outputs": [
    {
     "data": {
      "text/plain": [
       "'Mohammed loved cats and reportedly his favorite cat, Muezza, was a tabby. Legend says that tabby cats have an “M” for Mohammed on top of their heads because Mohammad would often rest his hand on the cat’s head.'"
      ]
     },
     "execution_count": 108,
     "metadata": {},
     "output_type": "execute_result"
    }
   ],
   "source": [
    "requests.get(url=\"https://catfact.ninja/fact\").json()[\"fact\"]"
   ]
  },
  {
   "cell_type": "code",
   "execution_count": null,
   "id": "34323694",
   "metadata": {
    "slideshow": {
     "slide_type": "slide"
    }
   },
   "outputs": [],
   "source": [
    "class TestAPI(unittest.TestCase):\n",
    "    @classmethod\n",
    "    def setUpClass(cls) -> None:\n",
    "        cls.mocked_data : List[dict] = [{\"fact\" : \"This is a random fact\", \"length\" : \"-99\"}]\n",
    "\n",
    "    @mock.patch(\"neon.functions.make_request\", return_value=None)\n",
    "    def test_retrieve_data_without_waiting(self, patched_request):\n",
    "        actual: dict = retrieve_data(waiting=5)\n",
    "        actual_keys: list = [key for key in actual]\n",
    "        expected_keys: list = [\"fact\", \"length\"]\n",
    "        self.assertEqual(actual_keys, expected_keys)\n",
    "    \n",
    "    @mock.patch(\"neon.functions.retrieve_data\")\n",
    "    def test_process_data_with_random_load(self, patched_retrieve):\n",
    "        \n",
    "        actual = process_data(usernumber=5, waiting=1)\n",
    "        pass\n",
    "\n",
    "ipytest.run(*test_args)"
   ]
  },
  {
   "cell_type": "code",
   "execution_count": null,
   "id": "56dfecf3",
   "metadata": {
    "slideshow": {
     "slide_type": "slide"
    }
   },
   "outputs": [],
   "source": [
    "class TestSparkFunctions(unittest.TestCase):\n",
    "    \"\"\"\n",
    "    All tests for Spark-related functions go here.\n",
    "    \"\"\"\n",
    "    def test_group_and_save_with_random_load(self):\n",
    "        pass\n",
    "\n",
    "    def test_group_and_save_with_api_load(self):\n",
    "        pass\n",
    "\n",
    "ipytest.run(*test_args)"
   ]
  },
  {
   "cell_type": "markdown",
   "id": "4df03e26",
   "metadata": {
    "slideshow": {
     "slide_type": "slide"
    }
   },
   "source": [
    "### Useful links:\n",
    "[Catfacts (API reference)](https://catfact.ninja/)\n",
    "[This application (Git repo)](https://github.com/jean-n92/pytest-mock-presentation)\n",
    "[Where to patch (Documentation)](https://docs.python.org/3/library/unittest.mock.html#where-to-patch)"
   ]
  }
 ],
 "metadata": {
  "celltoolbar": "Slideshow",
  "interpreter": {
   "hash": "4a7b606e264437b67c76b6a90ca9c891af4f0d4e775e00cab262968ebd59eaa3"
  },
  "kernelspec": {
   "display_name": "Python 3 (ipykernel)",
   "language": "python",
   "name": "python3"
  },
  "language_info": {
   "codemirror_mode": {
    "name": "ipython",
    "version": 3
   },
   "file_extension": ".py",
   "mimetype": "text/x-python",
   "name": "python",
   "nbconvert_exporter": "python",
   "pygments_lexer": "ipython3",
   "version": "3.7.0"
  }
 },
 "nbformat": 4,
 "nbformat_minor": 5
}
