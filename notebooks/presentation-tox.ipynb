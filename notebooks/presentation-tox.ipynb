{
 "cells": [
  {
   "cell_type": "markdown",
   "id": "79bdcda8",
   "metadata": {
    "slideshow": {
     "slide_type": "slide"
    }
   },
   "source": [
    "# Make testing *way* easier by using tox\n",
    "\n",
    "### About seamless CI, testing automation, best practices and cats 🐈"
   ]
  },
  {
   "cell_type": "markdown",
   "id": "3e4760ff",
   "metadata": {
    "slideshow": {
     "slide_type": "slide"
    }
   },
   "source": [
    "### Note: this is actually the second presentation of this cycle.\n",
    "The underlying application (neon) has been used already during the first presentation, which was about mocking internal objects while writing (unit) tests. The notebook is publicly available over [github](https://github.com/jean-n92/triangle-community-presentations/blob/minor/refresh-and-refactor/notebooks/presentation-pytest.ipynb)."
   ]
  },
  {
   "cell_type": "markdown",
   "id": "09d9f532",
   "metadata": {
    "slideshow": {
     "slide_type": "fragment"
    }
   },
   "source": [
    "Neon is a simple application that, when invoked, calls the public API [catfacts](https://catfact.ninja/fact) and supplies the user with a certain number of interesting facts about cats. Here's an example:"
   ]
  },
  {
   "cell_type": "code",
   "execution_count": null,
   "id": "432a6caf",
   "metadata": {
    "scrolled": false,
    "slideshow": {
     "slide_type": "fragment"
    }
   },
   "outputs": [],
   "source": [
    "!cat-facts -f 5"
   ]
  },
  {
   "cell_type": "markdown",
   "id": "e494de2e",
   "metadata": {
    "slideshow": {
     "slide_type": "slide"
    }
   },
   "source": [
    "![Tox logo](https://tox.wiki/en/rewrite/_static/tox.svg)"
   ]
  },
  {
   "cell_type": "markdown",
   "id": "aba5d496",
   "metadata": {
    "slideshow": {
     "slide_type": "subslide"
    }
   },
   "source": [
    "## What is tox?\n",
    "#### *And (most importantly) how is it going to make my life any better?*"
   ]
  },
  {
   "cell_type": "markdown",
   "id": "8d15ea81",
   "metadata": {
    "slideshow": {
     "slide_type": "fragment"
    }
   },
   "source": [
    "According to the [documentation](https://tox.wiki/en/rewrite/index.html):\n",
    "\n",
    "**tox** is a generic virtual environment management and test command line tool you can use for:"
   ]
  },
  {
   "cell_type": "markdown",
   "id": "82f8a3f2",
   "metadata": {
    "slideshow": {
     "slide_type": "fragment"
    }
   },
   "source": [
    "- checking your package *builds* and *installs* correctly under *different environments*,"
   ]
  },
  {
   "cell_type": "markdown",
   "id": "45f7ea30",
   "metadata": {
    "slideshow": {
     "slide_type": "fragment"
    }
   },
   "source": [
    "- *running your tests* in each of the environments with the test tool of choice,"
   ]
  },
  {
   "cell_type": "markdown",
   "id": "a42472d1",
   "metadata": {
    "slideshow": {
     "slide_type": "fragment"
    }
   },
   "source": [
    "- greatly *reducing boilerplate code* and merging agent-run and shell-based testing."
   ]
  },
  {
   "cell_type": "markdown",
   "id": "e033080f",
   "metadata": {
    "slideshow": {
     "slide_type": "fragment"
    }
   },
   "source": [
    "## Let's drill them down"
   ]
  },
  {
   "cell_type": "markdown",
   "id": "7d09fd5e",
   "metadata": {
    "slideshow": {
     "slide_type": "slide"
    }
   },
   "source": [
    "### 1. Checking that your package *builds* and *installs* correctly under *different environments*"
   ]
  },
  {
   "cell_type": "markdown",
   "id": "2f26dd6b",
   "metadata": {
    "slideshow": {
     "slide_type": "fragment"
    }
   },
   "source": [
    "Suppose that I'd like to distribute my application into <mark>two different platforms</mark>: **Linux** and **Windows**. Moreover, I'd like my application to be compatible with **Python 3.6 to 3.9**. This forces me to make sure that both *my application* and *its dependencies* can indeed work into each one of these environments.    \n",
    "\n",
    "Let's see a possible implementation of this CI requirement within Azure Pipeline (at the job level)."
   ]
  },
  {
   "cell_type": "markdown",
   "id": "399d9394",
   "metadata": {
    "slideshow": {
     "slide_type": "subslide"
    }
   },
   "source": [
    "```yaml\n",
    "jobs:\n",
    "  - job:\n",
    "    displayName: \"Testing on\"\n",
    "    strategy:\n",
    "      matrix:\n",
    "```"
   ]
  },
  {
   "cell_type": "markdown",
   "id": "1c85cb82",
   "metadata": {
    "slideshow": {
     "slide_type": "subslide"
    }
   },
   "source": [
    "```yaml\n",
    "        py36-linux:\n",
    "          displayName: \"Python 3.6 (Linux)\"\n",
    "          pythonVersion: \"3.6\"\n",
    "          imageName: \"ubuntu-latest\"\n",
    "        py38-linux:\n",
    "          displayName: \"Python 3.8 (Linux)\"\n",
    "          pythonVersion: \"3.8\"\n",
    "          imageName: \"ubuntu-latest\"\n",
    "```"
   ]
  },
  {
   "cell_type": "markdown",
   "id": "e1e56e45",
   "metadata": {
    "slideshow": {
     "slide_type": "fragment"
    }
   },
   "source": [
    "```yaml\n",
    "        py37-win:\n",
    "            displayName: \"Python 3.7 (Windows)\"\n",
    "            pythonVersion: \"3.7\"\n",
    "            imageName: \"windows-latest\"\n",
    "        py39-win:\n",
    "            displayName: \"Python 3.9 (Windows)\"\n",
    "            pythonVersion: \"3.9\"\n",
    "            imageName: \"windows-latest\"\n",
    "```"
   ]
  },
  {
   "cell_type": "markdown",
   "id": "74ff624d",
   "metadata": {
    "slideshow": {
     "slide_type": "notes"
    }
   },
   "source": [
    "I have now set up a deployment strategy that will work on all required environments/version. Let's proceed with running our tests at this point."
   ]
  },
  {
   "cell_type": "markdown",
   "id": "0e6fe4a4",
   "metadata": {
    "slideshow": {
     "slide_type": "slide"
    }
   },
   "source": [
    "### 2. *Running your tests* in each of the environments with the test tool of choice"
   ]
  },
  {
   "cell_type": "markdown",
   "id": "3e8adc5e",
   "metadata": {
    "slideshow": {
     "slide_type": "subslide"
    }
   },
   "source": [
    "```yaml\n",
    "    pool:\n",
    "          vmImage: $(imageName)\n",
    "    \n",
    "    steps:\n",
    "      - task: UsePythonVersion@0\n",
    "        displayName: \"Use Python $(pythonVersion)\"\n",
    "        inputs:\n",
    "          versionSpec: \"$(pythonVersion)\"\n",
    "```"
   ]
  },
  {
   "cell_type": "markdown",
   "id": "3ba74c3d",
   "metadata": {
    "slideshow": {
     "slide_type": "fragment"
    }
   },
   "source": [
    "```yaml\n",
    "      - script: pip install --upgrade pip setuptools virtualenv\n",
    "        displayName: \"Upgrade existing pip\"\n",
    "```"
   ]
  },
  {
   "cell_type": "markdown",
   "id": "799f69d1",
   "metadata": {
    "slideshow": {
     "slide_type": "subslide"
    }
   },
   "source": [
    "```yaml\n",
    "      - script: |\n",
    "          python -m virtualenv venv\n",
    "          source venv/bin/activate\n",
    "          pip install --upgrade pip setuptools\n",
    "          pip install -r requirements\n",
    "```"
   ]
  },
  {
   "cell_type": "markdown",
   "id": "a2031f2f",
   "metadata": {
    "slideshow": {
     "slide_type": "subslide"
    }
   },
   "source": [
    "```yaml\n",
    "      - script: |\n",
    "          python -m pytest -v -x -l \\\n",
    "            --cov neon/. \\\n",
    "            --cov-config $(Agent.BuildDirectory)/setup.cfg \\\n",
    "            --cov-report term-missing \\\n",
    "            tests/.\n",
    "```"
   ]
  },
  {
   "cell_type": "markdown",
   "id": "d2bc9e01",
   "metadata": {
    "slideshow": {
     "slide_type": "subslide"
    }
   },
   "source": [
    "## Ok, great. Testing is done. Quite some code,  but I made it."
   ]
  },
  {
   "cell_type": "markdown",
   "id": "5d11aaa6",
   "metadata": {
    "slideshow": {
     "slide_type": "fragment"
    }
   },
   "source": [
    "...but what if I now want to introduce a simple quality gate, such as `flake8`?"
   ]
  },
  {
   "cell_type": "markdown",
   "id": "10c7c173",
   "metadata": {
    "slideshow": {
     "slide_type": "subslide"
    }
   },
   "source": [
    "```yaml\n",
    "      - script: pip install --upgrade flake8\n",
    "        displayName: \"Installing flake8\"\n",
    "```"
   ]
  },
  {
   "cell_type": "markdown",
   "id": "6e100eab",
   "metadata": {
    "slideshow": {
     "slide_type": "fragment"
    }
   },
   "source": [
    "```yaml\n",
    "      - script: flake8 --config=$(Agent.BuildDirectory)/.flake8 neon/.\n",
    "        displayName: \"Running Flake8\"\n",
    "```"
   ]
  },
  {
   "cell_type": "markdown",
   "id": "13509b55",
   "metadata": {
    "slideshow": {
     "slide_type": "subslide"
    }
   },
   "source": [
    "...but what if I now want to introduce another quality gate, such as `isort`?"
   ]
  },
  {
   "cell_type": "markdown",
   "id": "972513c7",
   "metadata": {
    "slideshow": {
     "slide_type": "fragment"
    }
   },
   "source": [
    "![indecision](http://localhost:5500/.vscode/img4.jpg)"
   ]
  },
  {
   "cell_type": "markdown",
   "id": "5300011c",
   "metadata": {
    "slideshow": {
     "slide_type": "notes"
    }
   },
   "source": [
    "As you can see, this is already producing quite some code: in order to test my application, I have to download its requirements, create a virtual environment, initiate the environment, update its components, and finally run my preferred test tool. Moreover, it does not account for environment-specific requirements: let's say that, on `py36-linux`, I'd like to run my tests with a specific version of `urllib3` which is different than the standard one. How to do so?\n",
    "\n",
    "That's where Tox comes into play."
   ]
  },
  {
   "cell_type": "markdown",
   "id": "af3ec3a5",
   "metadata": {
    "slideshow": {
     "slide_type": "slide"
    }
   },
   "source": [
    "### 3. Greatly *reducing boilerplate code* and merging agent-run and shell-based testing"
   ]
  },
  {
   "cell_type": "markdown",
   "id": "cc1b996a",
   "metadata": {
    "slideshow": {
     "slide_type": "subslide"
    }
   },
   "source": [
    "```yaml\n",
    "    pool:\n",
    "          vmImage: $(imageName)\n",
    "    \n",
    "    steps:\n",
    "      - task: UsePythonVersion@0\n",
    "        displayName: \"Use Python $(python.version)\"\n",
    "        inputs:\n",
    "          versionSpec: \"$(python.version)\"\n",
    "```"
   ]
  },
  {
   "cell_type": "markdown",
   "id": "75e040ff",
   "metadata": {
    "slideshow": {
     "slide_type": "subslide"
    }
   },
   "source": [
    "```yaml\n",
    "      - script: pip install --upgrade pip tox\n",
    "        displayName: \"Install tox\"\n",
    "```"
   ]
  },
  {
   "cell_type": "markdown",
   "id": "9ec8b26e",
   "metadata": {
    "slideshow": {
     "slide_type": "fragment"
    }
   },
   "source": [
    "```yaml\n",
    "      - script: tox\n",
    "        displayName: \"Run tox\"\n",
    "```"
   ]
  },
  {
   "cell_type": "markdown",
   "id": "390df24d",
   "metadata": {},
   "source": [
    "![whicone](http://localhost:5500/.vscode/img5.jfif)"
   ]
  },
  {
   "cell_type": "markdown",
   "id": "1e936c4a",
   "metadata": {
    "slideshow": {
     "slide_type": "notes"
    }
   },
   "source": [
    "And this is as much as I have to do! This step will simply run `tox` within my agent. Moreover, `tox` will automatically recognize the platform/version it's running onto, and will behave accordingly."
   ]
  },
  {
   "cell_type": "markdown",
   "id": "45dd1d1a",
   "metadata": {
    "slideshow": {
     "slide_type": "slide"
    }
   },
   "source": [
    "## How does our pipeline look like, at this point?"
   ]
  },
  {
   "cell_type": "markdown",
   "id": "cd2281b7",
   "metadata": {
    "slideshow": {
     "slide_type": "fragment"
    }
   },
   "source": [
    "![pipeline](http://localhost:5500/.vscode/img2.png)"
   ]
  },
  {
   "cell_type": "markdown",
   "id": "75243789",
   "metadata": {
    "slideshow": {
     "slide_type": "slide"
    }
   },
   "source": [
    "## How do I set it up?"
   ]
  },
  {
   "cell_type": "markdown",
   "id": "665418cf",
   "metadata": {
    "slideshow": {
     "slide_type": "subslide"
    }
   },
   "source": [
    "Simply start by:\n",
    "1. Installing tox via pip (`pip install tox`)\n",
    "1. Creating a `tox.ini` configuration file inside your repo."
   ]
  },
  {
   "cell_type": "markdown",
   "id": "26cf1518",
   "metadata": {
    "slideshow": {
     "slide_type": "fragment"
    }
   },
   "source": [
    "Setting tox up is very easy. Its configuration file follows the standard .ini structure, with sections and headers. The documentation about its [configuration](https://tox.wiki/en/rewrite/config.html) is quite extensive, and covers many possible use cases.\n",
    "\n",
    "Let's have a look at its implementation for my cat application."
   ]
  },
  {
   "cell_type": "markdown",
   "id": "8456e84f",
   "metadata": {
    "slideshow": {
     "slide_type": "subslide"
    }
   },
   "source": [
    "```ini\n",
    "[tox]\n",
    "envlist = py{36,37,38,39}-{lin,win}, flake8, isort\n",
    "skip_missing_interpreters = true\n",
    "```"
   ]
  },
  {
   "cell_type": "markdown",
   "id": "4bc5b599",
   "metadata": {
    "slideshow": {
     "slide_type": "fragment"
    }
   },
   "source": [
    "```ini\n",
    "[testenv]\n",
    "platform =\n",
    "    lin: linux\n",
    "    win: win32\n",
    "\n",
    "```"
   ]
  },
  {
   "cell_type": "markdown",
   "id": "408c43ea",
   "metadata": {
    "slideshow": {
     "slide_type": "subslide"
    }
   },
   "source": [
    "```ini\n",
    "deps =\n",
    "    pyspark~=3.1\n",
    "    requests>=2.26\n",
    "    urllib3==1.23\n",
    "    pytest>=6.0.1\n",
    "    pytest-cov~=3.0\n",
    "```"
   ]
  },
  {
   "cell_type": "markdown",
   "id": "c93ff498",
   "metadata": {
    "slideshow": {
     "slide_type": "fragment"
    }
   },
   "source": [
    "```ini\n",
    "commands_pre =\n",
    "    pip install --upgrade pip setuptools\n",
    "commands =\n",
    "    python -m pytest --cov-config \"{toxinidir}/tox.ini\" tests/.\n",
    "\n",
    "```"
   ]
  },
  {
   "cell_type": "markdown",
   "id": "6795173d",
   "metadata": {
    "slideshow": {
     "slide_type": "subslide"
    }
   },
   "source": [
    "### Let's have our first test run!"
   ]
  },
  {
   "cell_type": "code",
   "execution_count": null,
   "id": "cf99e7f3",
   "metadata": {},
   "outputs": [],
   "source": [
    "!tox -e py37"
   ]
  },
  {
   "cell_type": "markdown",
   "id": "d1bc687a",
   "metadata": {
    "slideshow": {
     "slide_type": "slide"
    }
   },
   "source": [
    "### Note: all environments inherit from `testenv`\n",
    "This allows us to specify custom tools for custom testing scenarios\n",
    "\n",
    "(remember the second promise: *running your tests in each of the environments <mark>with the test tool of choice</mark>*)"
   ]
  },
  {
   "cell_type": "markdown",
   "id": "47f49135",
   "metadata": {
    "slideshow": {
     "slide_type": "subslide"
    }
   },
   "source": [
    "```ini\n",
    "[testenv:py38-lin]\n",
    "deps =\n",
    "    pyspark~=3.1\n",
    "    requests>=2.26\n",
    "    urllib3==1.23\n",
    "    pytest>=6.0.1\n",
    "    coverage~=6.3\n",
    "```"
   ]
  },
  {
   "cell_type": "markdown",
   "id": "cc6cdef0",
   "metadata": {
    "slideshow": {
     "slide_type": "fragment"
    }
   },
   "source": [
    "```ini\n",
    "commands =\n",
    "    coverage run -m pytest -c /dev/null tests/.\n",
    "    coverage report\n",
    "```"
   ]
  },
  {
   "cell_type": "markdown",
   "id": "5596016b",
   "metadata": {
    "slideshow": {
     "slide_type": "subslide"
    }
   },
   "source": [
    "### Let's test it out!"
   ]
  },
  {
   "cell_type": "code",
   "execution_count": null,
   "id": "d7675a07",
   "metadata": {
    "slideshow": {
     "slide_type": "fragment"
    }
   },
   "outputs": [],
   "source": [
    "!tox -e py38-lin"
   ]
  },
  {
   "cell_type": "markdown",
   "id": "6800cb2d",
   "metadata": {
    "slideshow": {
     "slide_type": "slide"
    }
   },
   "source": [
    "### Note: I can even add options for other modules within `tox.ini`\n",
    "This makes my life easier, since I do not have to rely on `.coveragerc`, `.flake8`, `pytest.ini` and all sort of additional sections within my `setup.cfg`."
   ]
  },
  {
   "cell_type": "markdown",
   "id": "90f4e141",
   "metadata": {
    "slideshow": {
     "slide_type": "subslide"
    }
   },
   "source": [
    "```ini\n",
    "[pytest]\n",
    "addopts =\n",
    "    -v -x -l\n",
    "    --cov neon/.\n",
    "    --cov-report term-missing\n",
    "```"
   ]
  },
  {
   "cell_type": "markdown",
   "id": "07e50d09",
   "metadata": {
    "slideshow": {
     "slide_type": "subslide"
    }
   },
   "source": [
    "```ini\n",
    "[coverage:report]\n",
    "fail_under = 70\n",
    "show_missing = True\n",
    "exclude_lines =\n",
    "    pragma: no cover\n",
    "    def __repr__\n",
    "    if __name__ == .__main__.:\n",
    "```"
   ]
  },
  {
   "cell_type": "markdown",
   "id": "f3d9c68f",
   "metadata": {
    "slideshow": {
     "slide_type": "slide"
    }
   },
   "source": [
    "### Note: quality gates can (and should!) be included in tox\n",
    "The most common ones are **flake8** and **isort**. [Flake8](https://flake8.pycqa.org/en/latest/) is a well-known style-guide enforcer which makes sure that all code abides to PEP 8 guidelines. On the other hand, [isort](https://isort.readthedocs.io/en/latest/) takes care of my `import` statements: more often then not, applications end up having *a lot* of import statements, up to the point where it starts being hard making sense of them. As the name suggests, isort sorts them up for you in a PEP 8-approved order.\n",
    "\n",
    "Both tools make your code way easier both to maintain for yourself and for others to contribute to, and are generally regarded as must-have for any respectable Python project in the real world."
   ]
  },
  {
   "cell_type": "markdown",
   "id": "0df11cf5",
   "metadata": {
    "slideshow": {
     "slide_type": "subslide"
    }
   },
   "source": [
    "```ini\n",
    "[testenv:flake8]\n",
    "deps =\n",
    "    flake8>=4.0.0\n",
    "commands =\n",
    "    flake8 neon\n",
    "```"
   ]
  },
  {
   "cell_type": "markdown",
   "id": "f4e23ea8",
   "metadata": {
    "slideshow": {
     "slide_type": "fragment"
    }
   },
   "source": [
    "```ini\n",
    "[testenv:isort]\n",
    "deps =\n",
    "    isort~=5.10.0\n",
    "commands =\n",
    "    isort --check-only --diff neon/.\n",
    "```"
   ]
  },
  {
   "cell_type": "markdown",
   "id": "7cc372f6",
   "metadata": {
    "slideshow": {
     "slide_type": "subslide"
    }
   },
   "source": [
    "```yaml\n",
    "      - script: tox -e flake8\n",
    "        displayName: \"Quality gate: Flake8\"\n",
    "```"
   ]
  },
  {
   "cell_type": "markdown",
   "id": "47ca5a48",
   "metadata": {
    "slideshow": {
     "slide_type": "fragment"
    }
   },
   "source": [
    "```yaml\n",
    "      - script: tox -e isort\n",
    "        displayName: \"Quality gate: isort\"\n",
    "```"
   ]
  },
  {
   "cell_type": "markdown",
   "id": "1eacc3c4",
   "metadata": {
    "slideshow": {
     "slide_type": "subslide"
    }
   },
   "source": [
    "### Let's test it out!"
   ]
  },
  {
   "cell_type": "code",
   "execution_count": null,
   "id": "460e4165",
   "metadata": {
    "slideshow": {
     "slide_type": "fragment"
    }
   },
   "outputs": [],
   "source": [
    "!tox -e flake8 neon/."
   ]
  },
  {
   "cell_type": "markdown",
   "id": "8642eb98",
   "metadata": {
    "slideshow": {
     "slide_type": "slide"
    }
   },
   "source": [
    "## Is it reliable?"
   ]
  },
  {
   "cell_type": "markdown",
   "id": "d84fde04",
   "metadata": {
    "slideshow": {
     "slide_type": "subslide"
    }
   },
   "source": [
    "![spongebob](http://localhost:5500/.vscode/img3.jpg)"
   ]
  },
  {
   "cell_type": "markdown",
   "id": "0505f9f7",
   "metadata": {
    "slideshow": {
     "slide_type": "subslide"
    }
   },
   "source": [
    "It has been adopted already by many major projects:\n",
    "- [flask](https://github.com/pallets/flask/blob/master/tox.ini)    \n",
    "- [scipy](https://github.com/scipy/scipy/blob/master/tox.ini)\n",
    "- [requests](https://github.com/psf/requests/blob/master/tox.ini)    \n",
    "- [numpy](https://github.com/numpy/numpy/blob/master/tox.ini)    "
   ]
  },
  {
   "cell_type": "markdown",
   "id": "c627dba4",
   "metadata": {
    "slideshow": {
     "slide_type": "fragment"
    }
   },
   "source": [
    "It is supported (and encouraged) by [Azure Pipelines](https://docs.microsoft.com/en-us/azure/devops/pipelines/ecosystems/python?view=azure-devops#run-tests-with-tox)."
   ]
  },
  {
   "cell_type": "markdown",
   "id": "3f2c732f",
   "metadata": {
    "slideshow": {
     "slide_type": "fragment"
    }
   },
   "source": [
    "It has been starred more than 2.4k times on [GitHub](https://github.com/tox-dev/tox), and it is still [maintaned](https://github.com/tox-dev/tox/releases)."
   ]
  },
  {
   "cell_type": "markdown",
   "id": "e462cb3c",
   "metadata": {
    "slideshow": {
     "slide_type": "slide"
    }
   },
   "source": [
    "# Thank you for your attention 🙏🏻"
   ]
  },
  {
   "cell_type": "markdown",
   "id": "4b8183ec",
   "metadata": {
    "slideshow": {
     "slide_type": "subslide"
    }
   },
   "source": [
    "### Useful links:\n",
    "[Catfacts (API reference)](https://catfact.ninja/)    \n",
    "[Previous presentation (Notebook)](https://github.com/jean-n92/triangle-community-presentations/blob/minor/refresh-and-refactor/notebooks/presentation-pytest.ipynb)    \n",
    "[This application (Git repo)](https://github.com/jean-n92/triangle-community-presentations)    \n",
    "[tox (Docs)](https://tox.wiki/en/rewrite/index.html)\n",
    "[Automating Build, Test and Release Workflows with tox (Video)](https://youtu.be/PrAyvH-tm8E)"
   ]
  }
 ],
 "metadata": {
  "celltoolbar": "Slideshow",
  "interpreter": {
   "hash": "4a7b606e264437b67c76b6a90ca9c891af4f0d4e775e00cab262968ebd59eaa3"
  },
  "kernelspec": {
   "display_name": "Python 3 (ipykernel)",
   "language": "python",
   "name": "python3"
  },
  "language_info": {
   "codemirror_mode": {
    "name": "ipython",
    "version": 3
   },
   "file_extension": ".py",
   "mimetype": "text/x-python",
   "name": "python",
   "nbconvert_exporter": "python",
   "pygments_lexer": "ipython3",
   "version": "3.8.0"
  }
 },
 "nbformat": 4,
 "nbformat_minor": 5
}
