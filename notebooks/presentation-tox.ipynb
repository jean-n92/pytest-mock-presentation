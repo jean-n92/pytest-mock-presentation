{
 "cells": [
  {
   "cell_type": "markdown",
   "id": "79bdcda8",
   "metadata": {
    "slideshow": {
     "slide_type": "slide"
    }
   },
   "source": [
    "# Make testing way easier by using **tox**\n",
    "\n",
    "### Also, a small introduction to testing automation, best practices and cats 🐈"
   ]
  },
  {
   "cell_type": "markdown",
   "id": "3e4760ff",
   "metadata": {
    "slideshow": {
     "slide_type": "fragment"
    }
   },
   "source": [
    "### TODO: explain that this is the second presentation of the cycle\n",
    "This is the second presentation of the testing cycle. The first one was about mocking."
   ]
  },
  {
   "cell_type": "markdown",
   "id": "aba5d496",
   "metadata": {
    "slideshow": {
     "slide_type": "slide"
    }
   },
   "source": [
    "![Tox logo](https://tox.wiki/en/rewrite/_static/tox.svg)\n",
    "## What is tox?\n",
    "#### *And (most importantly) how is it going to make my life any better?*"
   ]
  },
  {
   "cell_type": "code",
   "execution_count": null,
   "id": "d061e18f",
   "metadata": {},
   "outputs": [],
   "source": [
    "Why should I start using tox?"
   ]
  },
  {
   "cell_type": "markdown",
   "id": "0505f9f7",
   "metadata": {
    "slideshow": {
     "slide_type": "subslide"
    }
   },
   "source": [
    "It has been adopted already by many major projects:\n",
    "- [flask](https://github.com/pallets/flask/blob/master/tox.ini)    \n",
    "- [numpy](https://github.com/numpy/numpy/blob/master/tox.ini)    \n",
    "- [requests](https://github.com/psf/requests/blob/master/tox.ini)    \n",
    "- [scipy](https://github.com/scipy/scipy/blob/master/tox.ini)"
   ]
  },
  {
   "cell_type": "markdown",
   "id": "c627dba4",
   "metadata": {},
   "source": [
    "It is supported (and encouraged) by [Azure Pipelines](https://docs.microsoft.com/en-us/azure/devops/pipelines/ecosystems/python?view=azure-devops#run-tests-with-tox)."
   ]
  },
  {
   "cell_type": "markdown",
   "id": "8456e84f",
   "metadata": {},
   "source": [
    "```\n",
    "- job:\n",
    "\n",
    "  pool:\n",
    "    vmImage: 'ubuntu-latest'\n",
    "  strategy:\n",
    "    matrix:\n",
    "      Python27:\n",
    "        python.version: '2.7'\n",
    "      Python37:\n",
    "        python.version: '3.5'\n",
    "      Python38:\n",
    "        python.version: '3.8'\n",
    "\n",
    "  steps:\n",
    "  - task: UsePythonVersion@0\n",
    "    displayName: 'Use Python $(python.version)'\n",
    "    inputs:\n",
    "      versionSpec: '$(python.version)'\n",
    "\n",
    "  - script: pip install tox\n",
    "    displayName: 'Install Tox'\n",
    "\n",
    "  - script: tox -e py\n",
    "    displayName: 'Run Tox'\n",
    "```"
   ]
  },
  {
   "cell_type": "code",
   "execution_count": null,
   "id": "2d4449ce",
   "metadata": {},
   "outputs": [],
   "source": []
  },
  {
   "cell_type": "markdown",
   "id": "4b8183ec",
   "metadata": {
    "slideshow": {
     "slide_type": "subslide"
    }
   },
   "source": [
    "### Useful links:\n",
    "[Catfacts (API reference)](https://catfact.ninja/)    \n",
    "[Previous presentation (Notebook)](https://github.com/jean-n92/triangle-community-presentations/blob/minor/refresh-and-refactor/notebooks/presentation-pytest.ipynb)    \n",
    "[This application (Git repo)](https://github.com/jean-n92/triangle-community-presentations)    \n",
    "[tox (Docs)](https://tox.wiki/en/rewrite/index.html)\n",
    "[Automating Build, Test and Release Workflows with tox (Video)](https://youtu.be/PrAyvH-tm8E)"
   ]
  }
 ],
 "metadata": {
  "celltoolbar": "Slideshow",
  "interpreter": {
   "hash": "4a7b606e264437b67c76b6a90ca9c891af4f0d4e775e00cab262968ebd59eaa3"
  },
  "kernelspec": {
   "display_name": "Python 3 (ipykernel)",
   "language": "python",
   "name": "python3"
  },
  "language_info": {
   "codemirror_mode": {
    "name": "ipython",
    "version": 3
   },
   "file_extension": ".py",
   "mimetype": "text/x-python",
   "name": "python",
   "nbconvert_exporter": "python",
   "pygments_lexer": "ipython3",
   "version": "3.8.0"
  }
 },
 "nbformat": 4,
 "nbformat_minor": 5
}
