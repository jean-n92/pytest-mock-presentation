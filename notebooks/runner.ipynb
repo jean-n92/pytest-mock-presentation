{
 "cells": [
  {
   "cell_type": "code",
   "execution_count": 6,
   "id": "0cd020f3",
   "metadata": {
    "slideshow": {
     "slide_type": "slide"
    }
   },
   "outputs": [
    {
     "name": "stdout",
     "output_type": "stream",
     "text": [
      "Slide 1\n"
     ]
    }
   ],
   "source": [
    "print(\"Slide 1\")"
   ]
  },
  {
   "cell_type": "code",
   "execution_count": 10,
   "id": "58b1e558",
   "metadata": {
    "slideshow": {
     "slide_type": "subslide"
    }
   },
   "outputs": [
    {
     "name": "stdout",
     "output_type": "stream",
     "text": [
      "Slide 1.1\n"
     ]
    }
   ],
   "source": [
    "print(\"Slide 1.1\")"
   ]
  },
  {
   "cell_type": "code",
   "execution_count": 11,
   "id": "097062c5",
   "metadata": {
    "slideshow": {
     "slide_type": "subslide"
    }
   },
   "outputs": [
    {
     "name": "stdout",
     "output_type": "stream",
     "text": [
      "1.2\n"
     ]
    }
   ],
   "source": [
    "print(\"Slide 1.2\")"
   ]
  },
  {
   "cell_type": "code",
   "execution_count": 12,
   "id": "7f0db9e6",
   "metadata": {
    "slideshow": {
     "slide_type": "slide"
    }
   },
   "outputs": [
    {
     "name": "stdout",
     "output_type": "stream",
     "text": [
      "Slide 2\n"
     ]
    }
   ],
   "source": [
    "print(\"Slide 2\")"
   ]
  },
  {
   "cell_type": "code",
   "execution_count": 13,
   "id": "b5ee6d35",
   "metadata": {
    "slideshow": {
     "slide_type": "subslide"
    }
   },
   "outputs": [
    {
     "name": "stdout",
     "output_type": "stream",
     "text": [
      "Slide 2.1\n"
     ]
    }
   ],
   "source": [
    "print(\"Slide 2.1\")"
   ]
  },
  {
   "cell_type": "code",
   "execution_count": null,
   "id": "a57080b5",
   "metadata": {
    "slideshow": {
     "slide_type": "subslide"
    }
   },
   "outputs": [],
   "source": [
    "print(\"Slide 2.2\")"
   ]
  }
 ],
 "metadata": {
  "celltoolbar": "Slideshow",
  "kernelspec": {
   "display_name": "Python 3 (ipykernel)",
   "language": "python",
   "name": "python3"
  },
  "language_info": {
   "codemirror_mode": {
    "name": "ipython",
    "version": 3
   },
   "file_extension": ".py",
   "mimetype": "text/x-python",
   "name": "python",
   "nbconvert_exporter": "python",
   "pygments_lexer": "ipython3",
   "version": "3.7.0"
  }
 },
 "nbformat": 4,
 "nbformat_minor": 5
}
